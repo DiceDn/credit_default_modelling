{
 "cells": [
  {
   "cell_type": "markdown",
   "metadata": {},
   "source": [
    "Increase Transparency and Accountability in Your Machine Learning Project with Python\n",
    "In this oriole, you'll train a complex GBM classifier to predict credit card defaults and then learn to explain the outcome at a global scale with a decision tree surrogate model and at the local scale with LOCO. You'll use an ensemble LOCO approach to stabilize approximate explanations.\n",
    "By Patrick Hall, January 12, 2018\n",
    "Explain your complex models with decision tree surrogates, GBM feature importance, and reason codes\n",
    "Decision trees and decision tree ensembles are some of the most popular machine learning models used in commercial practice. They can train and make predictions on data containing character values and missing values—both common in large commercial data stores. Single decision trees are easily represented as directed graphs, which can drastically increase their interpretability and transparency. Decision tree ensembles (i.e., random forests and gradient boosting machines (GBMs)), can be used to increase the accuracy and stability of single decision tree models, but are far less intepretable than single trees. These characteristics of decision trees will be leveraged here to increase transparency and accountability in complex, nonlinear, machine learning models.\n",
    "\n",
    "This notebook starts by training a GBM on the UCI credit card default data using the popular open source library, H2O. A single decision tree surrogate model will then be trained on the original UCI credit card default data and the predictions from the H2O GBM, to create an approximate flowchart for the GBM's global decision-making processes. A technique known as leave-one-covariate-out (LOCO) will then be used to generate local explanations for any row-wise prediction made by the GBM model. Finally, local explanations are ensembled together from multiple similar models to increase explanation stability.\n",
    "\n",
    "Python imports\n",
    "In general, NumPy and Pandas will be used for data manipulation purposes and H2O will be used for modeling tasks."
   ]
  },
  {
   "cell_type": "code",
   "execution_count": 1,
   "metadata": {
    "ExecuteTime": {
     "end_time": "2018-10-22T23:19:37.993407Z",
     "start_time": "2018-10-22T23:19:37.678250Z"
    },
    "collapsed": true
   },
   "outputs": [],
   "source": [
    "#h2o is a server and a library\n",
    "import h2o"
   ]
  },
  {
   "cell_type": "code",
   "execution_count": 2,
   "metadata": {
    "ExecuteTime": {
     "end_time": "2018-10-22T23:19:39.736749Z",
     "start_time": "2018-10-22T23:19:38.884028Z"
    },
    "collapsed": true
   },
   "outputs": [],
   "source": [
    "from h2o.estimators.gbm import H2OGradientBoostingEstimator       # for GBM\n",
    "from h2o.estimators.random_forest import H2ORandomForestEstimator # for single tree\n",
    "from h2o.backend import H2OLocalServer                            # for plotting local tree in-notebook\n",
    "\n",
    "import numpy as np   # array, vector, matrix calculations\n",
    "import pandas as pd  # DataFrame handling\n",
    "\n",
    "# system packages for calling external graphviz processes\n",
    "import os\n",
    "import re\n",
    "import subprocess\n",
    "\n",
    "#Need to pip install graphviz and pydotplus\n",
    "#also need to download and install graphviz from https://graphviz.gitlab.io/_pages/Download/Download_windows.html\n",
    "#and need to set the path env variable to include the dot.exe bin dir.\n",
    "import graphviz\n",
    "import pydotplus\n",
    "\n",
    "# in-notebook display\n",
    "from IPython.display import Image\n",
    "from IPython.display import display\n",
    "%matplotlib inline"
   ]
  },
  {
   "cell_type": "markdown",
   "metadata": {},
   "source": [
    "Start H2O\n",
    "H2O is both a library and a server. The machine learning algorithms in the library take advantage of the multithreaded and distributed architecture provided by the server to train machine learning algorithms extremely efficiently. The API for the library was imported above in cell 1, but the server still needs to be started."
   ]
  },
  {
   "cell_type": "markdown",
   "metadata": {},
   "source": [
    "1. Download, explore, and prepare UCI credit card default data\n",
    "UCI credit card default data is available here.\n",
    "\n",
    "The UCI credit card default data contains demographic and payment information about credit card customers in Taiwan in the year 2005. The data set contains 23 input variables:\n",
    "\n",
    "LIMIT_BAL: Amount of given credit (NT dollar)\n",
    "SEX: 1 = male; 2 = female\n",
    "EDUCATION: 1 = graduate school; 2 = university; 3 = high school; 4 = others\n",
    "MARRIAGE: 1 = married; 2 = single; 3 = others\n",
    "AGE: Age in years\n",
    "PAY_0, PAY_2 - PAY_6: History of past payment; PAY_0 = the repayment status in September 2005; PAY_2 = the repayment status in August 2005; ...; PAY_6 = the repayment status in April 2005. The measurement scale for the repayment status is: -1 = pay duly; 1 = payment delay for one month; 2 = payment delay for two months; ...; 8 = payment delay for eight months; 9 = payment delay for nine months and above.\n",
    "BILL_AMT1 - BILL_AMT6: Amount of bill statement (NT dollar). BILL_AMNT1 = amount of bill statement in September 2005; BILL_AMT2 = amount of bill statement in August 2005; ...; BILL_AMT6 = amount of bill statement in April 2005.\n",
    "PAY_AMT1 - PAY_AMT6: Amount of previous payment (NT dollar). PAY_AMT1 = amount paid in September 2005; PAY_AMT2 = amount paid in August 2005; ...; PAY_AMT6 = amount paid in April 2005.\n",
    "These 23 input variables are used to predict the target variable, whether or not a customer defaulted on their credit card bill in late 2005.\n",
    "\n",
    "Because H2O accepts both numeric and character inputs, some variables will be recoded into more transparent character values.\n",
    "\n",
    "Import data and clean\n",
    "The credit card default data is available as an .xls file. Pandas reads .xls files automatically, so it's used to load the credit card default data and give the prediction target a shorter name: DEFAULT_NEXT_MONTH."
   ]
  },
  {
   "cell_type": "code",
   "execution_count": 4,
   "metadata": {
    "ExecuteTime": {
     "end_time": "2018-10-22T23:20:48.790229Z",
     "start_time": "2018-10-22T23:20:42.749371Z"
    }
   },
   "outputs": [
    {
     "name": "stdout",
     "output_type": "stream",
     "text": [
      "Checking whether there is an H2O instance running at http://localhost:54321. connected.\n"
     ]
    },
    {
     "data": {
      "text/html": [
       "<div style=\"overflow:auto\"><table style=\"width:50%\"><tr><td>H2O cluster uptime:</td>\n",
       "<td>55 secs</td></tr>\n",
       "<tr><td>H2O cluster timezone:</td>\n",
       "<td>Europe/London</td></tr>\n",
       "<tr><td>H2O data parsing timezone:</td>\n",
       "<td>UTC</td></tr>\n",
       "<tr><td>H2O cluster version:</td>\n",
       "<td>3.20.0.8</td></tr>\n",
       "<tr><td>H2O cluster version age:</td>\n",
       "<td>1 month and 1 day </td></tr>\n",
       "<tr><td>H2O cluster name:</td>\n",
       "<td>H2O_from_python_Richard_ffh87w</td></tr>\n",
       "<tr><td>H2O cluster total nodes:</td>\n",
       "<td>1</td></tr>\n",
       "<tr><td>H2O cluster free memory:</td>\n",
       "<td>6.677 Gb</td></tr>\n",
       "<tr><td>H2O cluster total cores:</td>\n",
       "<td>12</td></tr>\n",
       "<tr><td>H2O cluster allowed cores:</td>\n",
       "<td>12</td></tr>\n",
       "<tr><td>H2O cluster status:</td>\n",
       "<td>locked, healthy</td></tr>\n",
       "<tr><td>H2O connection url:</td>\n",
       "<td>http://localhost:54321</td></tr>\n",
       "<tr><td>H2O connection proxy:</td>\n",
       "<td>None</td></tr>\n",
       "<tr><td>H2O internal security:</td>\n",
       "<td>False</td></tr>\n",
       "<tr><td>H2O API Extensions:</td>\n",
       "<td>Algos, AutoML, Core V3, Core V4</td></tr>\n",
       "<tr><td>Python version:</td>\n",
       "<td>3.6.3 final</td></tr></table></div>"
      ],
      "text/plain": [
       "--------------------------  -------------------------------\n",
       "H2O cluster uptime:         55 secs\n",
       "H2O cluster timezone:       Europe/London\n",
       "H2O data parsing timezone:  UTC\n",
       "H2O cluster version:        3.20.0.8\n",
       "H2O cluster version age:    1 month and 1 day\n",
       "H2O cluster name:           H2O_from_python_Richard_ffh87w\n",
       "H2O cluster total nodes:    1\n",
       "H2O cluster free memory:    6.677 Gb\n",
       "H2O cluster total cores:    12\n",
       "H2O cluster allowed cores:  12\n",
       "H2O cluster status:         locked, healthy\n",
       "H2O connection url:         http://localhost:54321\n",
       "H2O connection proxy:\n",
       "H2O internal security:      False\n",
       "H2O API Extensions:         Algos, AutoML, Core V3, Core V4\n",
       "Python version:             3.6.3 final\n",
       "--------------------------  -------------------------------"
      ]
     },
     "metadata": {},
     "output_type": "display_data"
    }
   ],
   "source": [
    "#2\n",
    "h2o.init(nthreads=12) #max_mem_size='2G'      # start H2O\n",
    "h2o.remove_all()                  # remove any existing data structures from H2O memory"
   ]
  },
  {
   "cell_type": "code",
   "execution_count": 5,
   "metadata": {
    "ExecuteTime": {
     "end_time": "2018-10-22T23:20:58.463381Z",
     "start_time": "2018-10-22T23:20:58.459393Z"
    }
   },
   "outputs": [
    {
     "name": "stdout",
     "output_type": "stream",
     "text": [
      "C:\\Users\\Richard\\Documents\\Machine Learning\\OReilly\\Credit examples GBM\n"
     ]
    }
   ],
   "source": [
    "print(os.getcwd())"
   ]
  },
  {
   "cell_type": "code",
   "execution_count": 6,
   "metadata": {
    "ExecuteTime": {
     "end_time": "2018-10-22T23:21:01.450399Z",
     "start_time": "2018-10-22T23:21:00.092030Z"
    },
    "collapsed": true
   },
   "outputs": [],
   "source": [
    "#3 - import XLS file\n",
    "#path = 'default_of_credit_card_clients.xls'\n",
    "#data = pd.read_excel(path)#\n",
    "\n",
    "data = pd.read_excel('default of credit card clients.xls', skiprows=1)\n",
    "\n",
    "# remove spaces from target column name \n",
    "data = data.rename(columns={'default payment next month': 'DEFAULT_NEXT_MONTH'})"
   ]
  },
  {
   "cell_type": "code",
   "execution_count": 7,
   "metadata": {
    "ExecuteTime": {
     "end_time": "2018-10-22T23:21:04.257898Z",
     "start_time": "2018-10-22T23:21:04.243935Z"
    }
   },
   "outputs": [
    {
     "data": {
      "text/html": [
       "<div>\n",
       "<style>\n",
       "    .dataframe thead tr:only-child th {\n",
       "        text-align: right;\n",
       "    }\n",
       "\n",
       "    .dataframe thead th {\n",
       "        text-align: left;\n",
       "    }\n",
       "\n",
       "    .dataframe tbody tr th {\n",
       "        vertical-align: top;\n",
       "    }\n",
       "</style>\n",
       "<table border=\"1\" class=\"dataframe\">\n",
       "  <thead>\n",
       "    <tr style=\"text-align: right;\">\n",
       "      <th></th>\n",
       "      <th>ID</th>\n",
       "      <th>LIMIT_BAL</th>\n",
       "      <th>SEX</th>\n",
       "      <th>EDUCATION</th>\n",
       "      <th>MARRIAGE</th>\n",
       "      <th>AGE</th>\n",
       "      <th>PAY_0</th>\n",
       "      <th>PAY_2</th>\n",
       "      <th>PAY_3</th>\n",
       "      <th>PAY_4</th>\n",
       "      <th>...</th>\n",
       "      <th>BILL_AMT4</th>\n",
       "      <th>BILL_AMT5</th>\n",
       "      <th>BILL_AMT6</th>\n",
       "      <th>PAY_AMT1</th>\n",
       "      <th>PAY_AMT2</th>\n",
       "      <th>PAY_AMT3</th>\n",
       "      <th>PAY_AMT4</th>\n",
       "      <th>PAY_AMT5</th>\n",
       "      <th>PAY_AMT6</th>\n",
       "      <th>DEFAULT_NEXT_MONTH</th>\n",
       "    </tr>\n",
       "  </thead>\n",
       "  <tbody>\n",
       "    <tr>\n",
       "      <th>0</th>\n",
       "      <td>1</td>\n",
       "      <td>20000</td>\n",
       "      <td>2</td>\n",
       "      <td>2</td>\n",
       "      <td>1</td>\n",
       "      <td>24</td>\n",
       "      <td>2</td>\n",
       "      <td>2</td>\n",
       "      <td>-1</td>\n",
       "      <td>-1</td>\n",
       "      <td>...</td>\n",
       "      <td>0</td>\n",
       "      <td>0</td>\n",
       "      <td>0</td>\n",
       "      <td>0</td>\n",
       "      <td>689</td>\n",
       "      <td>0</td>\n",
       "      <td>0</td>\n",
       "      <td>0</td>\n",
       "      <td>0</td>\n",
       "      <td>1</td>\n",
       "    </tr>\n",
       "    <tr>\n",
       "      <th>1</th>\n",
       "      <td>2</td>\n",
       "      <td>120000</td>\n",
       "      <td>2</td>\n",
       "      <td>2</td>\n",
       "      <td>2</td>\n",
       "      <td>26</td>\n",
       "      <td>-1</td>\n",
       "      <td>2</td>\n",
       "      <td>0</td>\n",
       "      <td>0</td>\n",
       "      <td>...</td>\n",
       "      <td>3272</td>\n",
       "      <td>3455</td>\n",
       "      <td>3261</td>\n",
       "      <td>0</td>\n",
       "      <td>1000</td>\n",
       "      <td>1000</td>\n",
       "      <td>1000</td>\n",
       "      <td>0</td>\n",
       "      <td>2000</td>\n",
       "      <td>1</td>\n",
       "    </tr>\n",
       "    <tr>\n",
       "      <th>2</th>\n",
       "      <td>3</td>\n",
       "      <td>90000</td>\n",
       "      <td>2</td>\n",
       "      <td>2</td>\n",
       "      <td>2</td>\n",
       "      <td>34</td>\n",
       "      <td>0</td>\n",
       "      <td>0</td>\n",
       "      <td>0</td>\n",
       "      <td>0</td>\n",
       "      <td>...</td>\n",
       "      <td>14331</td>\n",
       "      <td>14948</td>\n",
       "      <td>15549</td>\n",
       "      <td>1518</td>\n",
       "      <td>1500</td>\n",
       "      <td>1000</td>\n",
       "      <td>1000</td>\n",
       "      <td>1000</td>\n",
       "      <td>5000</td>\n",
       "      <td>0</td>\n",
       "    </tr>\n",
       "    <tr>\n",
       "      <th>3</th>\n",
       "      <td>4</td>\n",
       "      <td>50000</td>\n",
       "      <td>2</td>\n",
       "      <td>2</td>\n",
       "      <td>1</td>\n",
       "      <td>37</td>\n",
       "      <td>0</td>\n",
       "      <td>0</td>\n",
       "      <td>0</td>\n",
       "      <td>0</td>\n",
       "      <td>...</td>\n",
       "      <td>28314</td>\n",
       "      <td>28959</td>\n",
       "      <td>29547</td>\n",
       "      <td>2000</td>\n",
       "      <td>2019</td>\n",
       "      <td>1200</td>\n",
       "      <td>1100</td>\n",
       "      <td>1069</td>\n",
       "      <td>1000</td>\n",
       "      <td>0</td>\n",
       "    </tr>\n",
       "    <tr>\n",
       "      <th>4</th>\n",
       "      <td>5</td>\n",
       "      <td>50000</td>\n",
       "      <td>1</td>\n",
       "      <td>2</td>\n",
       "      <td>1</td>\n",
       "      <td>57</td>\n",
       "      <td>-1</td>\n",
       "      <td>0</td>\n",
       "      <td>-1</td>\n",
       "      <td>0</td>\n",
       "      <td>...</td>\n",
       "      <td>20940</td>\n",
       "      <td>19146</td>\n",
       "      <td>19131</td>\n",
       "      <td>2000</td>\n",
       "      <td>36681</td>\n",
       "      <td>10000</td>\n",
       "      <td>9000</td>\n",
       "      <td>689</td>\n",
       "      <td>679</td>\n",
       "      <td>0</td>\n",
       "    </tr>\n",
       "  </tbody>\n",
       "</table>\n",
       "<p>5 rows × 25 columns</p>\n",
       "</div>"
      ],
      "text/plain": [
       "   ID  LIMIT_BAL  SEX  EDUCATION  MARRIAGE  AGE  PAY_0  PAY_2  PAY_3  PAY_4  \\\n",
       "0   1      20000    2          2         1   24      2      2     -1     -1   \n",
       "1   2     120000    2          2         2   26     -1      2      0      0   \n",
       "2   3      90000    2          2         2   34      0      0      0      0   \n",
       "3   4      50000    2          2         1   37      0      0      0      0   \n",
       "4   5      50000    1          2         1   57     -1      0     -1      0   \n",
       "\n",
       "          ...          BILL_AMT4  BILL_AMT5  BILL_AMT6  PAY_AMT1  PAY_AMT2  \\\n",
       "0         ...                  0          0          0         0       689   \n",
       "1         ...               3272       3455       3261         0      1000   \n",
       "2         ...              14331      14948      15549      1518      1500   \n",
       "3         ...              28314      28959      29547      2000      2019   \n",
       "4         ...              20940      19146      19131      2000     36681   \n",
       "\n",
       "   PAY_AMT3  PAY_AMT4  PAY_AMT5  PAY_AMT6  DEFAULT_NEXT_MONTH  \n",
       "0         0         0         0         0                   1  \n",
       "1      1000      1000         0      2000                   1  \n",
       "2      1000      1000      1000      5000                   0  \n",
       "3      1200      1100      1069      1000                   0  \n",
       "4     10000      9000       689       679                   0  \n",
       "\n",
       "[5 rows x 25 columns]"
      ]
     },
     "execution_count": 7,
     "metadata": {},
     "output_type": "execute_result"
    }
   ],
   "source": [
    "data.head()"
   ]
  },
  {
   "cell_type": "markdown",
   "metadata": {},
   "source": [
    "Assign modeling roles\n",
    "The shorthand name y is assigned to the prediction target. X is assigned to all other input variables in the credit card default data except the row identifier, ID.\n"
   ]
  },
  {
   "cell_type": "code",
   "execution_count": 8,
   "metadata": {
    "ExecuteTime": {
     "end_time": "2018-10-22T23:21:06.066067Z",
     "start_time": "2018-10-22T23:21:06.059085Z"
    }
   },
   "outputs": [
    {
     "name": "stdout",
     "output_type": "stream",
     "text": [
      "y = DEFAULT_NEXT_MONTH\n",
      "X = ['LIMIT_BAL', 'SEX', 'EDUCATION', 'MARRIAGE', 'AGE', 'PAY_0', 'PAY_2', 'PAY_3', 'PAY_4', 'PAY_5', 'PAY_6', 'BILL_AMT1', 'BILL_AMT2', 'BILL_AMT3', 'BILL_AMT4', 'BILL_AMT5', 'BILL_AMT6', 'PAY_AMT1', 'PAY_AMT2', 'PAY_AMT3', 'PAY_AMT4', 'PAY_AMT5', 'PAY_AMT6']\n"
     ]
    }
   ],
   "source": [
    "#4 - assign target and inputs for GBM\n",
    "y = 'DEFAULT_NEXT_MONTH'\n",
    "X = [name for name in data.columns if name not in [y, 'ID']]\n",
    "print('y =', y)\n",
    "print('X =', X)"
   ]
  },
  {
   "cell_type": "markdown",
   "metadata": {},
   "source": [
    "Helper function for recoding values in the UCI credit card default data\n",
    "This simple function maps longer, more understandable character string values from the UCI credit card default data dictionary to the original integer values of the input variables found in the dataset. These character values can be used directly in H2O decision tree models, and the function returns the original Pandas DataFrame as an H2O object, an H2OFrame. H2O models cannot run on Pandas DataFrames. They require H2OFrames.\n"
   ]
  },
  {
   "cell_type": "code",
   "execution_count": 9,
   "metadata": {
    "ExecuteTime": {
     "end_time": "2018-10-22T23:21:12.749208Z",
     "start_time": "2018-10-22T23:21:06.826035Z"
    }
   },
   "outputs": [
    {
     "name": "stdout",
     "output_type": "stream",
     "text": [
      "Parse progress: |█████████████████████████████████████████████████████████| 100%\n"
     ]
    }
   ],
   "source": [
    "#5\n",
    "def recode_cc_data(frame):\n",
    "\n",
    "    \"\"\" Recodes numeric categorical variables into categorical character variables\n",
    "    with more transparent values. \n",
    "\n",
    "    Args:\n",
    "        frame: Pandas DataFrame version of UCI credit card default data.\n",
    "\n",
    "    Returns: \n",
    "        H2OFrame with recoded values.\n",
    "\n",
    "    \"\"\"\n",
    "\n",
    "    # define recoded values\n",
    "    sex_dict = {1:'male', 2:'female'}\n",
    "    education_dict = {0:'other', 1:'graduate school', 2:'university', 3:'high school', \n",
    "                      4:'other', 5:'other', 6:'other'}\n",
    "    marriage_dict = {0:'other', 1:'married', 2:'single', 3:'divorced'}\n",
    "    pay_dict = {-2:'no consumption', -1:'pay duly', 0:'use of revolving credit', 1:'1 month delay', \n",
    "                2:'2 month delay', 3:'3 month delay', 4:'4 month delay', 5:'5 month delay', 6:'6 month delay', \n",
    "                7:'7 month delay', 8:'8 month delay', 9:'9+ month delay'}\n",
    "\n",
    "    # recode values using Pandas apply() and anonymous function\n",
    "    frame['SEX'] = frame['SEX'].apply(lambda i: sex_dict[i])\n",
    "    frame['EDUCATION'] = frame['EDUCATION'].apply(lambda i: education_dict[i])    \n",
    "    frame['MARRIAGE'] = frame['MARRIAGE'].apply(lambda i: marriage_dict[i]) \n",
    "    for name in frame.columns:\n",
    "        if name in ['PAY_0', 'PAY_2', 'PAY_3', 'PAY_4', 'PAY_5', 'PAY_6']:\n",
    "            frame[name] = frame[name].apply(lambda i: pay_dict[i])            \n",
    "\n",
    "    return h2o.H2OFrame(frame)\n",
    "\n",
    "data = recode_cc_data(data)"
   ]
  },
  {
   "cell_type": "code",
   "execution_count": 10,
   "metadata": {
    "ExecuteTime": {
     "end_time": "2018-10-22T23:21:14.802721Z",
     "start_time": "2018-10-22T23:21:12.750206Z"
    }
   },
   "outputs": [
    {
     "data": {
      "text/html": [
       "<table>\n",
       "<thead>\n",
       "<tr><th style=\"text-align: right;\">  ID</th><th style=\"text-align: right;\">  LIMIT_BAL</th><th>SEX   </th><th>EDUCATION  </th><th>MARRIAGE  </th><th style=\"text-align: right;\">  AGE</th><th>PAY_0                  </th><th>PAY_2                  </th><th>PAY_3                  </th><th>PAY_4                  </th><th>PAY_5                  </th><th>PAY_6                  </th><th style=\"text-align: right;\">  BILL_AMT1</th><th style=\"text-align: right;\">  BILL_AMT2</th><th style=\"text-align: right;\">  BILL_AMT3</th><th style=\"text-align: right;\">  BILL_AMT4</th><th style=\"text-align: right;\">  BILL_AMT5</th><th style=\"text-align: right;\">  BILL_AMT6</th><th style=\"text-align: right;\">  PAY_AMT1</th><th style=\"text-align: right;\">  PAY_AMT2</th><th style=\"text-align: right;\">  PAY_AMT3</th><th style=\"text-align: right;\">  PAY_AMT4</th><th style=\"text-align: right;\">  PAY_AMT5</th><th style=\"text-align: right;\">  PAY_AMT6</th><th style=\"text-align: right;\">  DEFAULT_NEXT_MONTH</th></tr>\n",
       "</thead>\n",
       "<tbody>\n",
       "<tr><td style=\"text-align: right;\">   1</td><td style=\"text-align: right;\">      20000</td><td>female</td><td>university </td><td>married   </td><td style=\"text-align: right;\">   24</td><td>2 month delay          </td><td>2 month delay          </td><td>pay duly               </td><td>pay duly               </td><td>no consumption         </td><td>no consumption         </td><td style=\"text-align: right;\">       3913</td><td style=\"text-align: right;\">       3102</td><td style=\"text-align: right;\">        689</td><td style=\"text-align: right;\">          0</td><td style=\"text-align: right;\">          0</td><td style=\"text-align: right;\">          0</td><td style=\"text-align: right;\">         0</td><td style=\"text-align: right;\">       689</td><td style=\"text-align: right;\">         0</td><td style=\"text-align: right;\">         0</td><td style=\"text-align: right;\">         0</td><td style=\"text-align: right;\">         0</td><td style=\"text-align: right;\">                   1</td></tr>\n",
       "<tr><td style=\"text-align: right;\">   2</td><td style=\"text-align: right;\">     120000</td><td>female</td><td>university </td><td>single    </td><td style=\"text-align: right;\">   26</td><td>pay duly               </td><td>2 month delay          </td><td>use of revolving credit</td><td>use of revolving credit</td><td>use of revolving credit</td><td>2 month delay          </td><td style=\"text-align: right;\">       2682</td><td style=\"text-align: right;\">       1725</td><td style=\"text-align: right;\">       2682</td><td style=\"text-align: right;\">       3272</td><td style=\"text-align: right;\">       3455</td><td style=\"text-align: right;\">       3261</td><td style=\"text-align: right;\">         0</td><td style=\"text-align: right;\">      1000</td><td style=\"text-align: right;\">      1000</td><td style=\"text-align: right;\">      1000</td><td style=\"text-align: right;\">         0</td><td style=\"text-align: right;\">      2000</td><td style=\"text-align: right;\">                   1</td></tr>\n",
       "<tr><td style=\"text-align: right;\">   3</td><td style=\"text-align: right;\">      90000</td><td>female</td><td>university </td><td>single    </td><td style=\"text-align: right;\">   34</td><td>use of revolving credit</td><td>use of revolving credit</td><td>use of revolving credit</td><td>use of revolving credit</td><td>use of revolving credit</td><td>use of revolving credit</td><td style=\"text-align: right;\">      29239</td><td style=\"text-align: right;\">      14027</td><td style=\"text-align: right;\">      13559</td><td style=\"text-align: right;\">      14331</td><td style=\"text-align: right;\">      14948</td><td style=\"text-align: right;\">      15549</td><td style=\"text-align: right;\">      1518</td><td style=\"text-align: right;\">      1500</td><td style=\"text-align: right;\">      1000</td><td style=\"text-align: right;\">      1000</td><td style=\"text-align: right;\">      1000</td><td style=\"text-align: right;\">      5000</td><td style=\"text-align: right;\">                   0</td></tr>\n",
       "</tbody>\n",
       "</table>"
      ]
     },
     "metadata": {},
     "output_type": "display_data"
    },
    {
     "data": {
      "text/plain": []
     },
     "execution_count": 10,
     "metadata": {},
     "output_type": "execute_result"
    }
   ],
   "source": [
    "data.head(3)"
   ]
  },
  {
   "cell_type": "markdown",
   "metadata": {},
   "source": [
    "Ensure target is handled as a categorical variable\n",
    "In H2O, a numeric variable can be treated as numeric or categorical. The target variable DEFAULT_NEXT_MONTH takes on values of 0 or 1. To ensure that this numeric variable is treated as a categorical variable, the asfactor() function is used to explicitly declare that it is a categorical variable."
   ]
  },
  {
   "cell_type": "code",
   "execution_count": 11,
   "metadata": {
    "ExecuteTime": {
     "end_time": "2018-10-22T23:21:16.901113Z",
     "start_time": "2018-10-22T23:21:16.898122Z"
    },
    "collapsed": true
   },
   "outputs": [],
   "source": [
    "#6\n",
    "data[y] = data[y].asfactor()"
   ]
  },
  {
   "cell_type": "markdown",
   "metadata": {},
   "source": [
    "Display descriptive statistics\n",
    "The H2O describe() function displays a brief description of the credit card default data. For the categorical input variables LIMIT_BAL, SEX, EDUCATION, MARRIAGE, and PAY_0-PAY_6, the new character values created above in cell 5 are visible. Basic descriptive statistics are displayed for numeric inputs. Also, it's easy to see there are no missing values in this dataset, which will be an important consideration for calculating LOCO values in section 5 and 6."
   ]
  },
  {
   "cell_type": "code",
   "execution_count": 12,
   "metadata": {
    "ExecuteTime": {
     "end_time": "2018-10-22T23:21:19.829289Z",
     "start_time": "2018-10-22T23:21:17.766800Z"
    }
   },
   "outputs": [
    {
     "name": "stdout",
     "output_type": "stream",
     "text": [
      "Rows:30000\n",
      "Cols:24\n",
      "\n",
      "\n"
     ]
    },
    {
     "data": {
      "text/html": [
       "<table>\n",
       "<thead>\n",
       "<tr><th>       </th><th>LIMIT_BAL         </th><th>SEX   </th><th>EDUCATION      </th><th>MARRIAGE  </th><th>AGE              </th><th>PAY_0                  </th><th>PAY_2                  </th><th>PAY_3                  </th><th>PAY_4                  </th><th>PAY_5                  </th><th>PAY_6                  </th><th>BILL_AMT1        </th><th>BILL_AMT2        </th><th>BILL_AMT3        </th><th>BILL_AMT4        </th><th>BILL_AMT5         </th><th>BILL_AMT6        </th><th>PAY_AMT1          </th><th>PAY_AMT2          </th><th>PAY_AMT3          </th><th>PAY_AMT4          </th><th>PAY_AMT5          </th><th>PAY_AMT6          </th><th>DEFAULT_NEXT_MONTH  </th></tr>\n",
       "</thead>\n",
       "<tbody>\n",
       "<tr><td>type   </td><td>int               </td><td>enum  </td><td>enum           </td><td>enum      </td><td>int              </td><td>enum                   </td><td>enum                   </td><td>enum                   </td><td>enum                   </td><td>enum                   </td><td>enum                   </td><td>int              </td><td>int              </td><td>int              </td><td>int              </td><td>int               </td><td>int              </td><td>int               </td><td>int               </td><td>int               </td><td>int               </td><td>int               </td><td>int               </td><td>enum                </td></tr>\n",
       "<tr><td>mins   </td><td>10000.0           </td><td>      </td><td>               </td><td>          </td><td>21.0             </td><td>                       </td><td>                       </td><td>                       </td><td>                       </td><td>                       </td><td>                       </td><td>-165580.0        </td><td>-69777.0         </td><td>-157264.0        </td><td>-170000.0        </td><td>-81334.0          </td><td>-339603.0        </td><td>0.0               </td><td>0.0               </td><td>0.0               </td><td>0.0               </td><td>0.0               </td><td>0.0               </td><td>                    </td></tr>\n",
       "<tr><td>mean   </td><td>167484.32266666615</td><td>      </td><td>               </td><td>          </td><td>35.48549999999997</td><td>                       </td><td>                       </td><td>                       </td><td>                       </td><td>                       </td><td>                       </td><td>51223.33089999999</td><td>49179.07516666671</td><td>47013.15479999975</td><td>43262.94896666657</td><td>40311.40096666653 </td><td>38871.76039999989</td><td>5663.580500000012 </td><td>5921.163500000002 </td><td>5225.6815000000115</td><td>4826.076866666665 </td><td>4799.387633333305 </td><td>5215.502566666666 </td><td>                    </td></tr>\n",
       "<tr><td>maxs   </td><td>1000000.0         </td><td>      </td><td>               </td><td>          </td><td>79.0             </td><td>                       </td><td>                       </td><td>                       </td><td>                       </td><td>                       </td><td>                       </td><td>964511.0         </td><td>983931.0         </td><td>1664089.0        </td><td>891586.0         </td><td>927171.0          </td><td>961664.0         </td><td>873552.0          </td><td>1684259.0         </td><td>896040.0          </td><td>621000.0          </td><td>426529.0          </td><td>528666.0          </td><td>                    </td></tr>\n",
       "<tr><td>sigma  </td><td>129747.66156720235</td><td>      </td><td>               </td><td>          </td><td>9.217904068090167</td><td>                       </td><td>                       </td><td>                       </td><td>                       </td><td>                       </td><td>                       </td><td>73635.86057552959</td><td>71173.76878252836</td><td>69349.38742703672</td><td>64332.85613391646</td><td>60797.155770264806</td><td>59554.10753674582</td><td>16563.280354025756</td><td>23040.870402057226</td><td>17606.961469803104</td><td>15666.159744031977</td><td>15278.305679144802</td><td>17777.465775435325</td><td>                    </td></tr>\n",
       "<tr><td>zeros  </td><td>0                 </td><td>      </td><td>               </td><td>          </td><td>0                </td><td>                       </td><td>                       </td><td>                       </td><td>                       </td><td>                       </td><td>                       </td><td>2008             </td><td>2506             </td><td>2870             </td><td>3195             </td><td>3506              </td><td>4020             </td><td>5249              </td><td>5396              </td><td>5968              </td><td>6408              </td><td>6703              </td><td>7173              </td><td>                    </td></tr>\n",
       "<tr><td>missing</td><td>0                 </td><td>0     </td><td>0              </td><td>0         </td><td>0                </td><td>0                      </td><td>0                      </td><td>0                      </td><td>0                      </td><td>0                      </td><td>0                      </td><td>0                </td><td>0                </td><td>0                </td><td>0                </td><td>0                 </td><td>0                </td><td>0                 </td><td>0                 </td><td>0                 </td><td>0                 </td><td>0                 </td><td>0                 </td><td>0                   </td></tr>\n",
       "<tr><td>0      </td><td>20000.0           </td><td>female</td><td>university     </td><td>married   </td><td>24.0             </td><td>2 month delay          </td><td>2 month delay          </td><td>pay duly               </td><td>pay duly               </td><td>no consumption         </td><td>no consumption         </td><td>3913.0           </td><td>3102.0           </td><td>689.0            </td><td>0.0              </td><td>0.0               </td><td>0.0              </td><td>0.0               </td><td>689.0             </td><td>0.0               </td><td>0.0               </td><td>0.0               </td><td>0.0               </td><td>1                   </td></tr>\n",
       "<tr><td>1      </td><td>120000.0          </td><td>female</td><td>university     </td><td>single    </td><td>26.0             </td><td>pay duly               </td><td>2 month delay          </td><td>use of revolving credit</td><td>use of revolving credit</td><td>use of revolving credit</td><td>2 month delay          </td><td>2682.0           </td><td>1725.0           </td><td>2682.0           </td><td>3272.0           </td><td>3455.0            </td><td>3261.0           </td><td>0.0               </td><td>1000.0            </td><td>1000.0            </td><td>1000.0            </td><td>0.0               </td><td>2000.0            </td><td>1                   </td></tr>\n",
       "<tr><td>2      </td><td>90000.0           </td><td>female</td><td>university     </td><td>single    </td><td>34.0             </td><td>use of revolving credit</td><td>use of revolving credit</td><td>use of revolving credit</td><td>use of revolving credit</td><td>use of revolving credit</td><td>use of revolving credit</td><td>29239.0          </td><td>14027.0          </td><td>13559.0          </td><td>14331.0          </td><td>14948.0           </td><td>15549.0          </td><td>1518.0            </td><td>1500.0            </td><td>1000.0            </td><td>1000.0            </td><td>1000.0            </td><td>5000.0            </td><td>0                   </td></tr>\n",
       "<tr><td>3      </td><td>50000.0           </td><td>female</td><td>university     </td><td>married   </td><td>37.0             </td><td>use of revolving credit</td><td>use of revolving credit</td><td>use of revolving credit</td><td>use of revolving credit</td><td>use of revolving credit</td><td>use of revolving credit</td><td>46990.0          </td><td>48233.0          </td><td>49291.0          </td><td>28314.0          </td><td>28959.0           </td><td>29547.0          </td><td>2000.0            </td><td>2019.0            </td><td>1200.0            </td><td>1100.0            </td><td>1069.0            </td><td>1000.0            </td><td>0                   </td></tr>\n",
       "<tr><td>4      </td><td>50000.0           </td><td>male  </td><td>university     </td><td>married   </td><td>57.0             </td><td>pay duly               </td><td>use of revolving credit</td><td>pay duly               </td><td>use of revolving credit</td><td>use of revolving credit</td><td>use of revolving credit</td><td>8617.0           </td><td>5670.0           </td><td>35835.0          </td><td>20940.0          </td><td>19146.0           </td><td>19131.0          </td><td>2000.0            </td><td>36681.0           </td><td>10000.0           </td><td>9000.0            </td><td>689.0             </td><td>679.0             </td><td>0                   </td></tr>\n",
       "<tr><td>5      </td><td>50000.0           </td><td>male  </td><td>graduate school</td><td>single    </td><td>37.0             </td><td>use of revolving credit</td><td>use of revolving credit</td><td>use of revolving credit</td><td>use of revolving credit</td><td>use of revolving credit</td><td>use of revolving credit</td><td>64400.0          </td><td>57069.0          </td><td>57608.0          </td><td>19394.0          </td><td>19619.0           </td><td>20024.0          </td><td>2500.0            </td><td>1815.0            </td><td>657.0             </td><td>1000.0            </td><td>1000.0            </td><td>800.0             </td><td>0                   </td></tr>\n",
       "<tr><td>6      </td><td>500000.0          </td><td>male  </td><td>graduate school</td><td>single    </td><td>29.0             </td><td>use of revolving credit</td><td>use of revolving credit</td><td>use of revolving credit</td><td>use of revolving credit</td><td>use of revolving credit</td><td>use of revolving credit</td><td>367965.0         </td><td>412023.0         </td><td>445007.0         </td><td>542653.0         </td><td>483003.0          </td><td>473944.0         </td><td>55000.0           </td><td>40000.0           </td><td>38000.0           </td><td>20239.0           </td><td>13750.0           </td><td>13770.0           </td><td>0                   </td></tr>\n",
       "<tr><td>7      </td><td>100000.0          </td><td>female</td><td>university     </td><td>single    </td><td>23.0             </td><td>use of revolving credit</td><td>pay duly               </td><td>pay duly               </td><td>use of revolving credit</td><td>use of revolving credit</td><td>pay duly               </td><td>11876.0          </td><td>380.0            </td><td>601.0            </td><td>221.0            </td><td>-159.0            </td><td>567.0            </td><td>380.0             </td><td>601.0             </td><td>0.0               </td><td>581.0             </td><td>1687.0            </td><td>1542.0            </td><td>0                   </td></tr>\n",
       "<tr><td>8      </td><td>140000.0          </td><td>female</td><td>high school    </td><td>married   </td><td>28.0             </td><td>use of revolving credit</td><td>use of revolving credit</td><td>2 month delay          </td><td>use of revolving credit</td><td>use of revolving credit</td><td>use of revolving credit</td><td>11285.0          </td><td>14096.0          </td><td>12108.0          </td><td>12211.0          </td><td>11793.0           </td><td>3719.0           </td><td>3329.0            </td><td>0.0               </td><td>432.0             </td><td>1000.0            </td><td>1000.0            </td><td>1000.0            </td><td>0                   </td></tr>\n",
       "<tr><td>9      </td><td>20000.0           </td><td>male  </td><td>high school    </td><td>single    </td><td>35.0             </td><td>no consumption         </td><td>no consumption         </td><td>no consumption         </td><td>no consumption         </td><td>pay duly               </td><td>pay duly               </td><td>0.0              </td><td>0.0              </td><td>0.0              </td><td>0.0              </td><td>13007.0           </td><td>13912.0          </td><td>0.0               </td><td>0.0               </td><td>0.0               </td><td>13007.0           </td><td>1122.0            </td><td>0.0               </td><td>0                   </td></tr>\n",
       "</tbody>\n",
       "</table>"
      ]
     },
     "metadata": {},
     "output_type": "display_data"
    }
   ],
   "source": [
    "#7\n",
    "data[X + [y]].describe()"
   ]
  },
  {
   "cell_type": "code",
   "execution_count": 13,
   "metadata": {
    "ExecuteTime": {
     "end_time": "2018-10-22T23:21:21.661393Z",
     "start_time": "2018-10-22T23:21:21.658401Z"
    },
    "collapsed": true
   },
   "outputs": [],
   "source": [
    "#enum is h2o name for categorical variables.\n",
    "#NB. this will work with missing values but added complexity"
   ]
  },
  {
   "cell_type": "markdown",
   "metadata": {},
   "source": [
    "2. Train an H2O GBM classifier\n",
    "Split data into training and test sets for early stopping\n",
    "The credit card default data is split into training and test sets to monitor and prevent overtraining. Reproducibility is also an important factor in creating trustworthy models, and randomly splitting datasets can introduce randomness in model predictions and other results. A random seed is used here to ensure that the data split is reproducible."
   ]
  },
  {
   "cell_type": "code",
   "execution_count": 14,
   "metadata": {
    "ExecuteTime": {
     "end_time": "2018-10-22T23:21:30.846849Z",
     "start_time": "2018-10-22T23:21:22.618835Z"
    }
   },
   "outputs": [
    {
     "name": "stdout",
     "output_type": "stream",
     "text": [
      "Train data rows = 21060, columns = 25\n",
      "Test data rows = 8940, columns = 25\n"
     ]
    }
   ],
   "source": [
    "#8 - split into training and validation\n",
    "#helps prevent overfitting, \n",
    "#random split introduces randomness into model so\n",
    "#random seed required because reproducibility important\n",
    "#for trustable explainable models\n",
    "train, test = data.split_frame([0.7], seed=12345)\n",
    "\n",
    "# summarize split\n",
    "print('Train data rows = %d, columns = %d' % (train.shape[0], train.shape[1]))\n",
    "print('Test data rows = %d, columns = %d' % (test.shape[0], test.shape[1]))"
   ]
  },
  {
   "cell_type": "markdown",
   "metadata": {},
   "source": [
    "Train H2O GBM classifier\n",
    "Many tuning parameters must be specified to train a GBM using H2O. Typically, a grid search would be performed to identify the best parameters for a given modeling task using the H2OGridSearch class. For brevity's sake, a previously discovered set of good tuning parameters are specified here. Because gradient boosting methods typically resample training data, an additional random seed is also specified for the H2O GBM using the seed parameter to create reproducible predictions, error rates, and variable importance values. To avoid overfitting, the stopping_rounds parameter is used to stop the training process after the test error fails to decrease for 5 iterations.\n",
    "\n",
    "The balance_classes parameter ensures that the positive and negative classes of the target variable are seen by the model in equal proportions during training. This can be very important for the LOCO calculations in sections 5 and 6 for unbalanced data. From experiments across several data sets, explanations for rows with a majority class label for the target variable (e.g., 0) generated by LOCO are more likely to match those generated by another popular explanatory technique, LIME, when the target class is rebalanced during training. balance_classes is commented out below because the row explained in this notebook has a minority class label (e.g., 1)."
   ]
  },
  {
   "cell_type": "code",
   "execution_count": 15,
   "metadata": {
    "ExecuteTime": {
     "end_time": "2018-10-22T23:21:35.167304Z",
     "start_time": "2018-10-22T23:21:30.847847Z"
    }
   },
   "outputs": [
    {
     "name": "stdout",
     "output_type": "stream",
     "text": [
      "gbm Model Build progress: |███████████████████████████████████████████████| 100%\n",
      "GBM Test AUC = 0.78\n"
     ]
    }
   ],
   "source": [
    "#9 - initialize GBM model\n",
    "#Normally use a grid search but params below found before:\n",
    "model = H2OGradientBoostingEstimator(ntrees=150,            # maximum 150 trees in GBM\n",
    "                                     max_depth=4,           # trees can have maximum depth of 4\n",
    "                                     sample_rate=0.9,       # use 90% of rows in each iteration (tree)\n",
    "                                     col_sample_rate=0.9,   # use 90% of variables in each iteration (tree)\n",
    "                                     #balance_classes=True, # sample to balance 0/1 distribution of target - can help LOCO\n",
    "                                                            # balance classes=True for lime not here.    \n",
    "                                     stopping_rounds=5,     # stop if validation error does not decrease for 5 iterations (trees)\n",
    "                                     score_tree_interval=1, # for reproducibility, set higher for bigger data\n",
    "                                     seed=12345)            # for reproducibility\n",
    "\n",
    "# train a GBM model\n",
    "model.train(y=y, x=X, training_frame=train, validation_frame=test)\n",
    "\n",
    "# print AUC\n",
    "print('GBM Test AUC = %.2f' % model.auc(valid=True))\n",
    "\n",
    "# uncomment to see model details\n",
    "# print(model)"
   ]
  },
  {
   "cell_type": "markdown",
   "metadata": {},
   "source": [
    "Display variable importance\n",
    "During training, the H2O GBM aggregates the improvement in error caused by each split in each decision tree across all the decision trees in the ensemble classifier. These values are attributed to the input variable used in each split, and give an indication of the contribution each input variable makes toward the model's predictions. The variable importance ranking should be parsimonious with human domain knowledge and reasonable expectations. In this case, a customer's most recent payment behavior, PAY_0, is by far the most important variable—followed by their second most recent payment, PAY_2, and third most recent payment, PAY_3, behavior. This result is well-aligned with business practices in credit lending: people who miss their most recent payments are likely to default soon."
   ]
  },
  {
   "cell_type": "code",
   "execution_count": 16,
   "metadata": {
    "ExecuteTime": {
     "end_time": "2018-10-22T23:21:35.309923Z",
     "start_time": "2018-10-22T23:21:35.168302Z"
    }
   },
   "outputs": [
    {
     "data": {
      "image/png": "[encoded data removed]",
      "text/plain": [
       "<matplotlib.figure.Figure at 0x147fb1b0d68>"
      ]
     },
     "metadata": {},
     "output_type": "display_data"
    }
   ],
   "source": [
    "#10\n",
    "model.varimp_plot()"
   ]
  },
  {
   "cell_type": "code",
   "execution_count": 17,
   "metadata": {
    "ExecuteTime": {
     "end_time": "2018-10-22T23:21:40.980770Z",
     "start_time": "2018-10-22T23:21:40.977778Z"
    },
    "collapsed": true
   },
   "outputs": [],
   "source": [
    "#Most recent payment behaviour is most important \n",
    "#all payment behaviour are driving the predictions.\n",
    "#as a domain expert these variable importances make sense - check ok!"
   ]
  },
  {
   "cell_type": "code",
   "execution_count": 18,
   "metadata": {
    "ExecuteTime": {
     "end_time": "2018-10-22T23:21:42.965466Z",
     "start_time": "2018-10-22T23:21:42.962474Z"
    },
    "collapsed": true
   },
   "outputs": [],
   "source": [
    "#Lets try to explain model a bit more.\n",
    "#model of a model - DT surrogate model\n",
    "#simple model to explain complex model.\n",
    "#"
   ]
  },
  {
   "cell_type": "markdown",
   "metadata": {},
   "source": [
    "3. Train a decision tree surrogate model to describe GBM\n",
    "A surrogate model is a simple model that is used to explain a complex model. One of the original references for surrogate models is available here. In this example, a single decision tree will be trained on the original inputs and predictions of the H2O GBM model and the tree will be visualized using special functionality in H2O and GraphViz. The variable importance, interactions, and decision paths displayed in the directed graph of the trained decision tree surrogate model are then assumed to be indicative of the internal mechanisms of the more complex GBM model, creating an approximate, overall flowchart for the GBM. There are few mathematical guarantees that the simple surrogate model is highly representative of the more complex GBM, but a recent preprint article has put forward ideas on strenghthening the theoretical relationship between surrogate models and more complex models. Since surrogate models alone do not guarantee accurate transparency, they will be used along with GBM variable importance and LOCO to build a cohesive narrative about the mechanisms within the GBM. Because most currently available explanatory techniques are approximate, it is recommended that users employ several different explanatory techniques and trust only consistent results across techniques.\n",
    "\n",
    "Create dataset for surrogate model\n",
    "To train a surrogate model, the predictions and original inputs of the complex model to be explained need to be in the same dataset. The test data is used here to see how the model behaves on holdout data, which should be closer to its behavior on new data than analyzing the surrogate model for the training inputs and predictions."
   ]
  },
  {
   "cell_type": "code",
   "execution_count": 19,
   "metadata": {
    "ExecuteTime": {
     "end_time": "2018-10-22T23:21:48.447816Z",
     "start_time": "2018-10-22T23:21:43.394321Z"
    }
   },
   "outputs": [
    {
     "name": "stdout",
     "output_type": "stream",
     "text": [
      "gbm prediction progress: |████████████████████████████████████████████████| 100%\n"
     ]
    }
   ],
   "source": [
    "#11 - cbind predictions to training frame\n",
    "# give them a nice name\n",
    "yhat = 'p_DEFAULT_NEXT_MONTH'\n",
    "preds1 = test['ID'].cbind(model.predict(test).drop(['predict', 'p0']))\n",
    "preds1.columns = ['ID', yhat]\n",
    "test_yhat = test.cbind(preds1[yhat])"
   ]
  },
  {
   "cell_type": "markdown",
   "metadata": {},
   "source": [
    "Train single H2O decision tree\n",
    "A single decision tree is trained on the test inputs and predictions. To simulate a single decision tree in H2O, the H2ORandomForestEstimator class is used, but only one tree is trained instead of a forest of decision trees. Setting the mtry parameter to -2 tells the H2ORandomForestEstimator to consider all variables in all splits of a tree, instead of considering a random subset of columns. It is also recommended to set a random seed for reproducibility and to set max_depth to a lower number, say less than 6, so that the surrogate model will not become overly complex and hard to explain and understand. Once the tree is trained, a MOJO (Model ObJect, Optimized) representation of the tree is saved. H2O provides a way to visualize the trained tree in detail using the MOJO and Graphviz."
   ]
  },
  {
   "cell_type": "code",
   "execution_count": 20,
   "metadata": {
    "ExecuteTime": {
     "end_time": "2018-10-22T23:21:53.545196Z",
     "start_time": "2018-10-22T23:21:48.448814Z"
    }
   },
   "outputs": [
    {
     "name": "stdout",
     "output_type": "stream",
     "text": [
      "drf Model Build progress: |███████████████████████████████████████████████| 100%\n",
      ".\n",
      "Generated MOJO path:\n",
      " C:\\Users\\Richard\\Documents\\Machine Learning\\OReilly\\Credit examples GBM\\dt_surrogate_mojo.zip\n"
     ]
    }
   ],
   "source": [
    "#12 Trick h2o by building a RF with a single tree.\n",
    "#mtries : -2 #forces RF to (instead of considering a random subset) to \n",
    "#consider all the columns (like a standard DT)\n",
    "#we train a model between the inputs to the complex GBM and our predictions of the \n",
    "#GBM. Training a simple model to explain the complex model.\n",
    "model_id = 'dt_surrogate_mojo' # gives MOJO artifact a recognizable name\n",
    "\n",
    "# initialize single tree surrogate model\n",
    "surrogate = H2ORandomForestEstimator(ntrees=1,          # use only one tree\n",
    "                                     sample_rate=1,     # use all rows in that tree\n",
    "                                     mtries=-2,         # use all columns in that tree\n",
    "                                     max_depth=3,       # shallow trees are easier to understand\n",
    "                                     seed=12345,        # random seed for reproducibility\n",
    "                                     model_id=model_id) # gives MOJO artifact a recognizable name\n",
    "\n",
    "# train single tree surrogate model\n",
    "surrogate.train(x=X, y=yhat, training_frame=test_yhat)\n",
    "\n",
    "#MOJO model optimized java object.\n",
    "#deployment (real time) scoring artifact : nice ability to draw pic of single DT.\n",
    "# persist MOJO (compiled, representation of trained model)\n",
    "# from which to generate plot of surrogate\n",
    "mojo_path = surrogate.download_mojo(path='.')\n",
    "print('.')\n",
    "print('Generated MOJO path:\\n', mojo_path)"
   ]
  },
  {
   "cell_type": "markdown",
   "metadata": {},
   "source": [
    "Create GraphViz dot file\n",
    "GraphViz is an open source graph visualization tool. It is freely available here. To plot the trained decision tree surrogate model, a special H2O class, PrintMojo, is executed against the MOJO to create a GraphViz dot file representation of the tree."
   ]
  },
  {
   "cell_type": "code",
   "execution_count": 21,
   "metadata": {
    "ExecuteTime": {
     "end_time": "2018-10-22T23:21:57.354018Z",
     "start_time": "2018-10-22T23:21:57.250295Z"
    }
   },
   "outputs": [
    {
     "name": "stdout",
     "output_type": "stream",
     "text": [
      "Discovered H2O jar path:\n",
      " C:\\Users\\Richard\\Anaconda3\\lib\\site-packages\\h2o\\backend\\bin\\h2o.jar\n",
      "\n",
      "Calling external process ...\n",
      "java -cp C:\\Users\\Richard\\Anaconda3\\lib\\site-packages\\h2o\\backend\\bin\\h2o.jar hex.genmodel.tools.PrintMojo --tree 0 -i C:\\Users\\Richard\\Documents\\Machine Learning\\OReilly\\Credit examples GBM\\dt_surrogate_mojo.zip -o dt_surrogate_mojo.gv --title Credit Card Default Decision Tree Surrogate\n"
     ]
    }
   ],
   "source": [
    "#13 - title for plot : draw a directed graph.\n",
    "#construct command to run and use the h2o .jar against the h2o mojo to produce file.\n",
    "title = 'Credit Card Default Decision Tree Surrogate'  \n",
    "\n",
    "# locate H2O jar\n",
    "hs = H2OLocalServer()\n",
    "h2o_jar_path = hs._find_jar()\n",
    "print('Discovered H2O jar path:\\n', h2o_jar_path)\n",
    "\n",
    "# construct command line call to generate graphviz version of \n",
    "# surrogate tree see for more information: \n",
    "# http://docs.h2o.ai/h2o/latest-stable/h2o-genmodel/javadoc/index.html\n",
    "\n",
    "#need to copy dt_surrogate_mojo.zip into say c:/temp/ with a shorter path or \n",
    "#doesn't work!!!!!!!\n",
    "#So command becomes: (add underscores to title also!)\n",
    "#java -cp C:\\Users\\Richard\\Anaconda3\\lib\\site-packages\\h2o\\backend\\bin\\h2o.jar hex.genmodel.tools.PrintMojo --tree 0 -i C:\\temp\\dt_surrogate_mojo.zip -o dt_surrogate_mojo.gv --title Credit_Card_Default_Decision_Tree\n",
    "gv_file_name = model_id + '.gv'\n",
    "gv_args = str('-cp ' + h2o_jar_path +\n",
    "              ' hex.genmodel.tools.PrintMojo --tree 0 -i '\n",
    "              + mojo_path + ' -o').split()\n",
    "gv_args.insert(0, 'java')\n",
    "gv_args.append(gv_file_name)\n",
    "if title is not None:\n",
    "    gv_args = gv_args + ['--title', title]\n",
    "\n",
    "# call \n",
    "print()\n",
    "print('Calling external process ...')\n",
    "print(' '.join(gv_args))\n",
    "_ = subprocess.call(gv_args)"
   ]
  },
  {
   "cell_type": "markdown",
   "metadata": {},
   "source": [
    "Create PNG from GraphViz dot file and display\n",
    "Then a GraphViz command line tool is used to create a static PNG image from the dot file..."
   ]
  },
  {
   "cell_type": "code",
   "execution_count": 24,
   "metadata": {
    "ExecuteTime": {
     "end_time": "2018-10-23T00:05:01.729362Z",
     "start_time": "2018-10-23T00:05:01.602700Z"
    }
   },
   "outputs": [
    {
     "name": "stdout",
     "output_type": "stream",
     "text": [
      "Calling external process ...\n",
      "dot -Tpng dt_surrogate_mojo.gv -o dt_surrogate_mojo.png\n"
     ]
    }
   ],
   "source": [
    "#14 - construct call to generate (static png image) PNG from \n",
    "# graphviz representation of the tree \n",
    "png_file_name = model_id + '.png'\n",
    "png_args = str('dot -Tpng ' + gv_file_name + ' -o ' + png_file_name)\n",
    "\n",
    "png_args = png_args.split()\n",
    "\n",
    "# call\n",
    "print('Calling external process ...')\n",
    "print(' '.join(png_args))\n",
    "_ = subprocess.call(png_args)"
   ]
  },
  {
   "cell_type": "markdown",
   "metadata": {},
   "source": [
    "Display surrogate decision tree in notebook\n",
    "...and the image is displayed in the notebook:"
   ]
  },
  {
   "cell_type": "code",
   "execution_count": 25,
   "metadata": {
    "ExecuteTime": {
     "end_time": "2018-10-23T00:05:03.829749Z",
     "start_time": "2018-10-23T00:05:03.807808Z"
    }
   },
   "outputs": [
    {
     "data": {
      "image/png": "[encoded data removed]",
      "text/plain": [
       "<IPython.core.display.Image object>"
      ]
     },
     "metadata": {},
     "output_type": "display_data"
    }
   ],
   "source": [
    "#15 - display in-notebook\n",
    "display(Image((png_file_name)))\n",
    "#Gives us a flow chart of the highly complex GBM model trained above."
   ]
  },
  {
   "cell_type": "markdown",
   "metadata": {},
   "source": [
    "4. Analyze surrogate model and compare to global GBM variable importance\n",
    "The displayed tree is comparable with the global GBM variable importance. A simple heuristic rule for variable importance in a decision tree relates to the depth and frequency at which a variable is split on in a tree: variables used higher in the tree and more frequently in the tree are more important. Most of the variables pictured in this tree also appear as highly important in the GBM variable importance plot. In both cases, PAY_0 appears as crucially important, with other payment behavior variables following close behind. The surrogate decision tree enables users to understand and confirm not only what input variables are important, but also how their values contribute to model decisions. For instance, to fall into the lowest probability of default leaf node in the surrogate decision tree a customer must make their first and second payments in a timely fashion and then pay more than 1515.5 New Taiwanese Dollars for their fifth payment. Conversely, customers who miss their first, third, and fifth payments fall into the highest probability of default leaf node of the surrogate decision tree. It is also imperative to compare these results to domain knowledge and reasonable expectations. In this case, the global explanatory methods applied thus far tell a consistent and reasonable story about the GBM's behavior. If this was not so, steps should be taken to either reconcile or remove inconsistencies and unreasonable prediction behavior.\n",
    "\n",
    "5. Generate reason codes using the LOCO method\n",
    "Now that a solid understanding of global model behavior has been attained, local behavior for any given row of data and prediction can be analyzed and validated using LOCO. The LOCO method presented here is adapted from Distribution-Free Predictive Inference for Regression by Jing Lei et al. Here the local contribution of an input variable to a prediction for a single row of data is estimated by rescoring the GBM on that row one time for each input variable, each time leaving out one input variable (e.g., \"covariate\") by setting it to missing, and then subtracting the new score from the original score. By default, H2O scores missing data in decision trees by running them through the majority decision path. This means LOCO will be a numeric measure of how different the local contribution of an input variable is from the most common local contribution of that variable in the model. This variant of LOCO differs from the original method, in which one input variable is dropped from the model and the model is retrained without that variable. For nonlinear models, nonlinear dependencies can allow variables to nearly completely replace one another when a variable is dropped and the model is retrained. Hence, the approach of injecting missing values is used to estimate local contributions of input variables for nonlinear models here, as opposed to dropping a variable and retraining the model.\n",
    "\n",
    "Calculate LOCO reason values for each row of the test set\n",
    "To implement LOCO, GBM model predicitions are calculated once for the test data and then again for each input variable, setting the entire input variable column to missing. Once the prediction without the variable is found for every row of data in the test set, that column vector of predictions on corrupted data can be subtracted from the column vector of predictions on the original, noncorrupted data to estimate the local contribution of that variable for each prediction in the test data."
   ]
  },
  {
   "cell_type": "code",
   "execution_count": 36,
   "metadata": {
    "ExecuteTime": {
     "end_time": "2018-10-23T01:36:11.844543Z",
     "start_time": "2018-10-23T01:36:11.840553Z"
    },
    "collapsed": true
   },
   "outputs": [],
   "source": [
    "#LOCO: Need to understand the model implementation we're using becuase of what happens\n",
    "#when a value is missing (unseen) becasue we didn't score missing during training\n",
    "#. h2o sends it down the most common (majority) decision path\n",
    "#so what we're calculating is really here is a prediction and the most\n",
    "#common behaviour for that variable.\n",
    "#Differnece between the 2 predictions tells us the local contribution of \n",
    "#the missing variable in the case in question.\n",
    "#Most people go down the path of people actually paying their bill hence \n",
    "#all we would be doing is calculating the difference with the most common path in \n",
    "#the decision tree. \n",
    "#Hence we need to rebalance "
   ]
  },
  {
   "cell_type": "code",
   "execution_count": 26,
   "metadata": {
    "ExecuteTime": {
     "end_time": "2018-10-23T00:22:02.524554Z",
     "start_time": "2018-10-23T00:22:02.521562Z"
    },
    "collapsed": true
   },
   "outputs": [],
   "source": [
    "#alot of model predictions.\n",
    "#we carry out for every row and for every variable\n",
    "#variables local controbution for every given prediction. Difference between \n",
    "#going down most common path in decision tree."
   ]
  },
  {
   "cell_type": "code",
   "execution_count": 27,
   "metadata": {
    "ExecuteTime": {
     "end_time": "2018-10-23T00:26:04.331733Z",
     "start_time": "2018-10-23T00:22:04.753148Z"
    }
   },
   "outputs": [
    {
     "name": "stdout",
     "output_type": "stream",
     "text": [
      "LOCO Progress: LIMIT_BAL (1/23) ...\n",
      "LOCO Progress: SEX (2/23) ...\n",
      "LOCO Progress: EDUCATION (3/23) ...\n",
      "LOCO Progress: MARRIAGE (4/23) ...\n",
      "LOCO Progress: AGE (5/23) ...\n",
      "LOCO Progress: PAY_0 (6/23) ...\n",
      "LOCO Progress: PAY_2 (7/23) ...\n",
      "LOCO Progress: PAY_3 (8/23) ...\n",
      "LOCO Progress: PAY_4 (9/23) ...\n",
      "LOCO Progress: PAY_5 (10/23) ...\n",
      "LOCO Progress: PAY_6 (11/23) ...\n",
      "LOCO Progress: BILL_AMT1 (12/23) ...\n",
      "LOCO Progress: BILL_AMT2 (13/23) ...\n",
      "LOCO Progress: BILL_AMT3 (14/23) ...\n",
      "LOCO Progress: BILL_AMT4 (15/23) ...\n",
      "LOCO Progress: BILL_AMT5 (16/23) ...\n",
      "LOCO Progress: BILL_AMT6 (17/23) ...\n",
      "LOCO Progress: PAY_AMT1 (18/23) ...\n",
      "LOCO Progress: PAY_AMT2 (19/23) ...\n",
      "LOCO Progress: PAY_AMT3 (20/23) ...\n",
      "LOCO Progress: PAY_AMT4 (21/23) ...\n",
      "LOCO Progress: PAY_AMT5 (22/23) ...\n",
      "LOCO Progress: PAY_AMT6 (23/23) ...\n",
      "Done.\n"
     ]
    },
    {
     "data": {
      "text/html": [
       "<table>\n",
       "<thead>\n",
       "<tr><th style=\"text-align: right;\">  ID</th><th style=\"text-align: right;\">  p_DEFAULT_NEXT_MONTH</th><th style=\"text-align: right;\">  LIMIT_BAL</th><th style=\"text-align: right;\">       SEX</th><th style=\"text-align: right;\">  EDUCATION</th><th style=\"text-align: right;\">  MARRIAGE</th><th style=\"text-align: right;\">         AGE</th><th style=\"text-align: right;\">      PAY_0</th><th style=\"text-align: right;\">      PAY_2</th><th style=\"text-align: right;\">      PAY_3</th><th style=\"text-align: right;\">    PAY_4</th><th style=\"text-align: right;\">     PAY_5</th><th style=\"text-align: right;\">     PAY_6</th><th style=\"text-align: right;\">  BILL_AMT1</th><th style=\"text-align: right;\">  BILL_AMT2</th><th style=\"text-align: right;\">  BILL_AMT3</th><th style=\"text-align: right;\">  BILL_AMT4</th><th style=\"text-align: right;\">  BILL_AMT5</th><th style=\"text-align: right;\">   BILL_AMT6</th><th style=\"text-align: right;\">   PAY_AMT1</th><th style=\"text-align: right;\">  PAY_AMT2</th><th style=\"text-align: right;\">  PAY_AMT3</th><th style=\"text-align: right;\">   PAY_AMT4</th><th style=\"text-align: right;\">   PAY_AMT5</th><th style=\"text-align: right;\">   PAY_AMT6</th></tr>\n",
       "</thead>\n",
       "<tbody>\n",
       "<tr><td style=\"text-align: right;\">   4</td><td style=\"text-align: right;\">             0.144991 </td><td style=\"text-align: right;\"> 0.0453234 </td><td style=\"text-align: right;\">0         </td><td style=\"text-align: right;\"> 0         </td><td style=\"text-align: right;\">0.00519567</td><td style=\"text-align: right;\"> 0.000981875</td><td style=\"text-align: right;\"> 0         </td><td style=\"text-align: right;\"> 0         </td><td style=\"text-align: right;\"> 0         </td><td style=\"text-align: right;\">0        </td><td style=\"text-align: right;\">0         </td><td style=\"text-align: right;\">0         </td><td style=\"text-align: right;\">-0.00753285</td><td style=\"text-align: right;\"> 0         </td><td style=\"text-align: right;\"> 0.00120099</td><td style=\"text-align: right;\">-0.00327773</td><td style=\"text-align: right;\"> 0         </td><td style=\"text-align: right;\"> 0          </td><td style=\"text-align: right;\"> 0         </td><td style=\"text-align: right;\">0         </td><td style=\"text-align: right;\"> 0        </td><td style=\"text-align: right;\"> 0         </td><td style=\"text-align: right;\"> 0         </td><td style=\"text-align: right;\"> 0.0030343 </td></tr>\n",
       "<tr><td style=\"text-align: right;\">   8</td><td style=\"text-align: right;\">             0.128193 </td><td style=\"text-align: right;\"> 0.00341042</td><td style=\"text-align: right;\">0         </td><td style=\"text-align: right;\"> 0         </td><td style=\"text-align: right;\">0         </td><td style=\"text-align: right;\"> 0          </td><td style=\"text-align: right;\">-0.00194366</td><td style=\"text-align: right;\"> 0         </td><td style=\"text-align: right;\">-0.00767682</td><td style=\"text-align: right;\">0        </td><td style=\"text-align: right;\">0.00242311</td><td style=\"text-align: right;\">0.00157522</td><td style=\"text-align: right;\"> 0         </td><td style=\"text-align: right;\"> 0         </td><td style=\"text-align: right;\">-0.00171521</td><td style=\"text-align: right;\"> 0         </td><td style=\"text-align: right;\"> 0.0101367 </td><td style=\"text-align: right;\">-0.00262612 </td><td style=\"text-align: right;\"> 0.00482473</td><td style=\"text-align: right;\">0.00615845</td><td style=\"text-align: right;\"> 0.0115423</td><td style=\"text-align: right;\"> 0         </td><td style=\"text-align: right;\">-0.00976958</td><td style=\"text-align: right;\"> 0         </td></tr>\n",
       "<tr><td style=\"text-align: right;\">  10</td><td style=\"text-align: right;\">             0.179911 </td><td style=\"text-align: right;\"> 0.0306697 </td><td style=\"text-align: right;\">0.00374922</td><td style=\"text-align: right;\"> 0         </td><td style=\"text-align: right;\">0         </td><td style=\"text-align: right;\"> 0.012538   </td><td style=\"text-align: right;\">-0.00480931</td><td style=\"text-align: right;\"> 0         </td><td style=\"text-align: right;\">-0.00675939</td><td style=\"text-align: right;\">0        </td><td style=\"text-align: right;\">0         </td><td style=\"text-align: right;\">0         </td><td style=\"text-align: right;\"> 0.0166836 </td><td style=\"text-align: right;\"> 0         </td><td style=\"text-align: right;\"> 0         </td><td style=\"text-align: right;\"> 0         </td><td style=\"text-align: right;\"> 0         </td><td style=\"text-align: right;\"> 0          </td><td style=\"text-align: right;\"> 0.00638378</td><td style=\"text-align: right;\">0.00391615</td><td style=\"text-align: right;\"> 0.0122921</td><td style=\"text-align: right;\">-0.0248101 </td><td style=\"text-align: right;\"> 0         </td><td style=\"text-align: right;\"> 0.00633047</td></tr>\n",
       "<tr><td style=\"text-align: right;\">  16</td><td style=\"text-align: right;\">             0.325205 </td><td style=\"text-align: right;\"> 0.0223131 </td><td style=\"text-align: right;\">0         </td><td style=\"text-align: right;\"> 0         </td><td style=\"text-align: right;\">0.007151  </td><td style=\"text-align: right;\"> 0          </td><td style=\"text-align: right;\"> 0.0479099 </td><td style=\"text-align: right;\"> 0.0977417 </td><td style=\"text-align: right;\"> 0         </td><td style=\"text-align: right;\">0        </td><td style=\"text-align: right;\">0         </td><td style=\"text-align: right;\">0         </td><td style=\"text-align: right;\"> 0         </td><td style=\"text-align: right;\"> 0         </td><td style=\"text-align: right;\"> 0         </td><td style=\"text-align: right;\">-0.00577466</td><td style=\"text-align: right;\"> 0         </td><td style=\"text-align: right;\"> 0          </td><td style=\"text-align: right;\"> 0.00955491</td><td style=\"text-align: right;\">0         </td><td style=\"text-align: right;\"> 0        </td><td style=\"text-align: right;\"> 0         </td><td style=\"text-align: right;\"> 0         </td><td style=\"text-align: right;\"> 0         </td></tr>\n",
       "<tr><td style=\"text-align: right;\">  17</td><td style=\"text-align: right;\">             0.408821 </td><td style=\"text-align: right;\"> 0.0623461 </td><td style=\"text-align: right;\">0         </td><td style=\"text-align: right;\"> 0.00349413</td><td style=\"text-align: right;\">0         </td><td style=\"text-align: right;\"> 0          </td><td style=\"text-align: right;\"> 0         </td><td style=\"text-align: right;\"> 0         </td><td style=\"text-align: right;\"> 0.0967906 </td><td style=\"text-align: right;\">0.100232 </td><td style=\"text-align: right;\">0.0435013 </td><td style=\"text-align: right;\">0.0317981 </td><td style=\"text-align: right;\">-0.00547684</td><td style=\"text-align: right;\"> 0         </td><td style=\"text-align: right;\">-0.00369333</td><td style=\"text-align: right;\"> 0         </td><td style=\"text-align: right;\"> 0         </td><td style=\"text-align: right;\"> 0          </td><td style=\"text-align: right;\"> 0         </td><td style=\"text-align: right;\">0         </td><td style=\"text-align: right;\"> 0        </td><td style=\"text-align: right;\"> 0.00234251</td><td style=\"text-align: right;\"> 0         </td><td style=\"text-align: right;\"> 0.0157739 </td></tr>\n",
       "<tr><td style=\"text-align: right;\">  19</td><td style=\"text-align: right;\">             0.375316 </td><td style=\"text-align: right;\"> 0.0215854 </td><td style=\"text-align: right;\">0         </td><td style=\"text-align: right;\"> 0         </td><td style=\"text-align: right;\">0.00629058</td><td style=\"text-align: right;\"> 0.0588337  </td><td style=\"text-align: right;\"> 0.096859  </td><td style=\"text-align: right;\"> 0.00073804</td><td style=\"text-align: right;\"> 0         </td><td style=\"text-align: right;\">0.0130627</td><td style=\"text-align: right;\">0.0255801 </td><td style=\"text-align: right;\">0.0313344 </td><td style=\"text-align: right;\"> 0.0431872 </td><td style=\"text-align: right;\"> 0         </td><td style=\"text-align: right;\"> 0         </td><td style=\"text-align: right;\"> 0         </td><td style=\"text-align: right;\"> 0.0629883 </td><td style=\"text-align: right;\"> 0.0220196  </td><td style=\"text-align: right;\"> 0.0102307 </td><td style=\"text-align: right;\">0.00620944</td><td style=\"text-align: right;\"> 0.0599107</td><td style=\"text-align: right;\"> 0.00227167</td><td style=\"text-align: right;\"> 0.0471022 </td><td style=\"text-align: right;\"> 0         </td></tr>\n",
       "<tr><td style=\"text-align: right;\">  22</td><td style=\"text-align: right;\">             0.226277 </td><td style=\"text-align: right;\"> 0.00887205</td><td style=\"text-align: right;\">0         </td><td style=\"text-align: right;\"> 0         </td><td style=\"text-align: right;\">0.00467871</td><td style=\"text-align: right;\"> 0.00131065 </td><td style=\"text-align: right;\"> 0.0197205 </td><td style=\"text-align: right;\"> 0         </td><td style=\"text-align: right;\"> 0         </td><td style=\"text-align: right;\">0        </td><td style=\"text-align: right;\">0         </td><td style=\"text-align: right;\">0         </td><td style=\"text-align: right;\"> 0.0438675 </td><td style=\"text-align: right;\"> 0         </td><td style=\"text-align: right;\"> 0         </td><td style=\"text-align: right;\"> 0         </td><td style=\"text-align: right;\"> 0.0174038 </td><td style=\"text-align: right;\"> 0.000941688</td><td style=\"text-align: right;\"> 0.00759026</td><td style=\"text-align: right;\">0.00969988</td><td style=\"text-align: right;\"> 0.0208861</td><td style=\"text-align: right;\"> 0         </td><td style=\"text-align: right;\"> 0.0148703 </td><td style=\"text-align: right;\"> 0.00752675</td></tr>\n",
       "<tr><td style=\"text-align: right;\">  30</td><td style=\"text-align: right;\">             0.146556 </td><td style=\"text-align: right;\"> 0.0462539 </td><td style=\"text-align: right;\">0         </td><td style=\"text-align: right;\">-0.00520593</td><td style=\"text-align: right;\">0         </td><td style=\"text-align: right;\"> 0          </td><td style=\"text-align: right;\"> 0         </td><td style=\"text-align: right;\"> 0         </td><td style=\"text-align: right;\"> 0         </td><td style=\"text-align: right;\">0        </td><td style=\"text-align: right;\">0         </td><td style=\"text-align: right;\">0         </td><td style=\"text-align: right;\"> 0         </td><td style=\"text-align: right;\"> 0         </td><td style=\"text-align: right;\">-0.00191906</td><td style=\"text-align: right;\"> 0         </td><td style=\"text-align: right;\"> 0         </td><td style=\"text-align: right;\"> 0          </td><td style=\"text-align: right;\"> 0         </td><td style=\"text-align: right;\">0.00689932</td><td style=\"text-align: right;\"> 0        </td><td style=\"text-align: right;\"> 0         </td><td style=\"text-align: right;\"> 0         </td><td style=\"text-align: right;\"> 0.0053589 </td></tr>\n",
       "<tr><td style=\"text-align: right;\">  32</td><td style=\"text-align: right;\">             0.628551 </td><td style=\"text-align: right;\"> 0.00216121</td><td style=\"text-align: right;\">0         </td><td style=\"text-align: right;\"> 0         </td><td style=\"text-align: right;\">0         </td><td style=\"text-align: right;\">-0.0114609  </td><td style=\"text-align: right;\"> 0.484291  </td><td style=\"text-align: right;\">-0.00287068</td><td style=\"text-align: right;\"> 0         </td><td style=\"text-align: right;\">0        </td><td style=\"text-align: right;\">0         </td><td style=\"text-align: right;\">0         </td><td style=\"text-align: right;\"> 0         </td><td style=\"text-align: right;\"> 0         </td><td style=\"text-align: right;\"> 0         </td><td style=\"text-align: right;\"> 0         </td><td style=\"text-align: right;\"> 0         </td><td style=\"text-align: right;\"> 0          </td><td style=\"text-align: right;\"> 0         </td><td style=\"text-align: right;\">0         </td><td style=\"text-align: right;\"> 0        </td><td style=\"text-align: right;\"> 0         </td><td style=\"text-align: right;\"> 0         </td><td style=\"text-align: right;\"> 0         </td></tr>\n",
       "<tr><td style=\"text-align: right;\">  37</td><td style=\"text-align: right;\">             0.0875691</td><td style=\"text-align: right;\">-0.0230194 </td><td style=\"text-align: right;\">0.00122499</td><td style=\"text-align: right;\"> 0         </td><td style=\"text-align: right;\">0.00284014</td><td style=\"text-align: right;\"> 0.00317339 </td><td style=\"text-align: right;\"> 0         </td><td style=\"text-align: right;\"> 0         </td><td style=\"text-align: right;\"> 0         </td><td style=\"text-align: right;\">0        </td><td style=\"text-align: right;\">0         </td><td style=\"text-align: right;\">0         </td><td style=\"text-align: right;\"> 0.0148159 </td><td style=\"text-align: right;\"> 0.00153852</td><td style=\"text-align: right;\"> 0.0027339 </td><td style=\"text-align: right;\"> 0         </td><td style=\"text-align: right;\"> 0.00215791</td><td style=\"text-align: right;\"> 0          </td><td style=\"text-align: right;\">-0.00173299</td><td style=\"text-align: right;\">0.00132471</td><td style=\"text-align: right;\"> 0        </td><td style=\"text-align: right;\"> 0         </td><td style=\"text-align: right;\">-0.0070095 </td><td style=\"text-align: right;\">-0.00145106</td></tr>\n",
       "</tbody>\n",
       "</table>"
      ]
     },
     "metadata": {},
     "output_type": "display_data"
    },
    {
     "data": {
      "text/plain": []
     },
     "execution_count": 27,
     "metadata": {},
     "output_type": "execute_result"
    }
   ],
   "source": [
    "#16\n",
    "h2o.no_progress() # turn off H2O's gratuitous progress bars\n",
    "\n",
    "# create set of original predictions and row ID\n",
    "preds2 = test['ID'].cbind(model.predict(test).drop(['predict', 'p0']))\n",
    "preds2.columns = ['ID', yhat]\n",
    "\n",
    "# calculate LOCO for each variable\n",
    "for k, i in enumerate(X):\n",
    "\n",
    "    # train and predict with x_i set to missing\n",
    "    test_loco = h2o.deep_copy(test, 'test_loco')\n",
    "    test_loco[i] = np.nan\n",
    "    preds_loco = model.predict(test_loco).drop(['predict','p0'])\n",
    "\n",
    "    # create a new, named column for the LOCO prediction\n",
    "    preds_loco.columns = [i]\n",
    "    preds2 = preds2.cbind(preds_loco)\n",
    "\n",
    "    # subtract the LOCO prediction from the original prediction\n",
    "    preds2[i] = preds2[yhat] - preds2[i]\n",
    "\n",
    "    # update progress\n",
    "    print('LOCO Progress: ' + i + ' (' + str(k+1) + '/' + str(len(X)) + ') ...')\n",
    "\n",
    "print('Done.')  \n",
    "\n",
    "preds2.head()"
   ]
  },
  {
   "cell_type": "code",
   "execution_count": null,
   "metadata": {
    "collapsed": true
   },
   "outputs": [],
   "source": [
    "#Below is an exercise in boundary testing\n",
    "#looking at most risky person. However you would probably want to do this on every \n",
    "#member of data set."
   ]
  },
  {
   "cell_type": "markdown",
   "metadata": {},
   "source": [
    "The numeric LOCO values in each column are an estimate of how much each variable contributed to each prediction. LOCO can indicate how a variable and its values were weighted in any given decision by the model. These values are crucially important for machine learning interpretability and are related to \"local feature importance,\" \"reason codes,\" or \"turn-down codes.\" The latter phrases are borrowed from credit scoring. Credit lenders in the US must provide reasons for automatically rejecting a credit application. Reason codes can be easily extracted from LOCO local variable contribution values by simply ranking the variables that played the largest role in any given decision.\n",
    "\n",
    "Helper function for finding percentile indices\n",
    "The following function finds and returns the row indices for the minimum, the maximum, and the deciles of one column in terms of another: in this case, the model predictions (p_DEFAULT_NEXT_MONTH) and the row identifier (ID), respectively. These indices are used as a starting point for finding potentially interesting predictions. Outlying predictions found through residual analysis is another group of potentially interesting local predictions you can analyze with LOCO."
   ]
  },
  {
   "cell_type": "code",
   "execution_count": 28,
   "metadata": {
    "ExecuteTime": {
     "end_time": "2018-10-23T00:26:33.601520Z",
     "start_time": "2018-10-23T00:26:32.393748Z"
    }
   },
   "outputs": [
    {
     "data": {
      "text/plain": [
       "{0: 28716,\n",
       " 10: 8942,\n",
       " 20: 28257,\n",
       " 30: 4074,\n",
       " 40: 13411,\n",
       " 50: 16633,\n",
       " 60: 2402,\n",
       " 70: 19769,\n",
       " 80: 25069,\n",
       " 90: 21372,\n",
       " 99: 29116}"
      ]
     },
     "execution_count": 28,
     "metadata": {},
     "output_type": "execute_result"
    }
   ],
   "source": [
    "#17\n",
    "def get_percentile_dict(yhat, id_, frame):\n",
    "\n",
    "    \"\"\" Returns the minimum, maximum, and percentiles of a column, yhat, \n",
    "        as the indices based on another column id_.\n",
    "\n",
    "    Args:\n",
    "        yhat: Column in which to find percentiles.\n",
    "        id_: Id column that stores indices for percentiles of yhat.\n",
    "        frame: H2OFrame containing yhat and id_. \n",
    "\n",
    "    Returns:\n",
    "        Dictionary of percentile values and index column values.\n",
    "\n",
    "    \"\"\"\n",
    "\n",
    "    # convert to Pandas and sort \n",
    "    sort_df = frame.as_data_frame()\n",
    "    sort_df.sort_values(yhat, inplace=True)\n",
    "    sort_df.reset_index(inplace=True)\n",
    "\n",
    "    # find top and bottom percentiles\n",
    "    percentiles_dict = {}\n",
    "    percentiles_dict[0] = sort_df.loc[0, id_]\n",
    "    percentiles_dict[99] = sort_df.loc[sort_df.shape[0]-1, id_]\n",
    "    inc = sort_df.shape[0]//10\n",
    "\n",
    "    # find 10th-90th percentiles    \n",
    "    for i in range(1, 10):\n",
    "        percentiles_dict[i * 10] = sort_df.loc[i * inc,  id_]\n",
    "\n",
    "    return percentiles_dict\n",
    "\n",
    "# display percentiles dictionary\n",
    "# ID values for rows\n",
    "# from lowest prediction \n",
    "# to highest prediction\n",
    "percentile_dict = get_percentile_dict(yhat, 'ID', preds2)\n",
    "percentile_dict"
   ]
  },
  {
   "cell_type": "code",
   "execution_count": 29,
   "metadata": {
    "ExecuteTime": {
     "end_time": "2018-10-23T00:27:05.852143Z",
     "start_time": "2018-10-23T00:27:05.849152Z"
    },
    "collapsed": true
   },
   "outputs": [],
   "source": [
    "#Calculate Reason code or turn down code. (credit scoring world)\n",
    "#Credit agency needs to tell individual why they were turned down.\n",
    "#Lender needs to specifically tell the person why they (not anyone else) specifically \n",
    "#was turned down.\n",
    "#Rank LOCO contributions and look at top 5, and see below their value of \n",
    "#pay_0 was what sent over top.\n",
    "#Age not allowed in US or UK!!"
   ]
  },
  {
   "cell_type": "markdown",
   "metadata": {},
   "source": [
    "Plot some reason codes for a risky customer\n",
    "Investigating customers with very high or low predicted probabilities to determine whether their local explanations justify their extreme predictions is typically a productive exercise in boundary testing, model debugging, and validation. Reason codes are generated for the customer with the highest probability of default in the test data set below in cell 18, but LOCO can create local explanations for any or all rows in the training or test datasets, and on new data."
   ]
  },
  {
   "cell_type": "code",
   "execution_count": 30,
   "metadata": {
    "ExecuteTime": {
     "end_time": "2018-10-23T00:27:24.852004Z",
     "start_time": "2018-10-23T00:27:21.729815Z"
    }
   },
   "outputs": [
    {
     "data": {
      "image/png": "[encoded data removed]",
      "text/plain": [
       "<matplotlib.figure.Figure at 0x147fadd81d0>"
      ]
     },
     "metadata": {},
     "output_type": "display_data"
    }
   ],
   "source": [
    "#18 - select single customer\n",
    "# convert to Pandas\n",
    "# drop prediction and row ID\n",
    "risky_loco = preds2[preds2['ID'] == int(percentile_dict[99]), :].as_data_frame().drop(['ID', yhat], axis=1)       \n",
    "\n",
    "# transpose into column vector and sort        \n",
    "risky_loco = risky_loco.T.sort_values(by=0, ascending=False)[:5]\n",
    "\n",
    "# plot\n",
    "_ = risky_loco.plot(kind='bar', \n",
    "                    title='Top Five Reason Codes for a Risky Customer\\n', \n",
    "                    legend=False)"
   ]
  },
  {
   "cell_type": "markdown",
   "metadata": {},
   "source": [
    "For the customer in the test dataset that the GBM predicts as most likely to default, the most important input variables in the prediction are, in descending order, PAY_0, PAY_6, PAY_3, PAY_5, and AGE.\n",
    "\n",
    "Display customer in question\n",
    "The local contributions for this customer appear reasonable, especially when considering her payment information. Her most recent payment was 3 months late and her payment for 6 months prior was 4 months late, so it's logical that these would weigh heavily into the model's prediction for default for this customer."
   ]
  },
  {
   "cell_type": "code",
   "execution_count": 31,
   "metadata": {
    "ExecuteTime": {
     "end_time": "2018-10-23T00:32:12.449919Z",
     "start_time": "2018-10-23T00:32:10.410341Z"
    }
   },
   "outputs": [
    {
     "data": {
      "text/html": [
       "<table>\n",
       "<thead>\n",
       "<tr><th style=\"text-align: right;\">   ID</th><th style=\"text-align: right;\">  LIMIT_BAL</th><th>SEX   </th><th>EDUCATION  </th><th>MARRIAGE  </th><th style=\"text-align: right;\">  AGE</th><th>PAY_0        </th><th>PAY_2        </th><th>PAY_3        </th><th>PAY_4        </th><th>PAY_5        </th><th>PAY_6        </th><th style=\"text-align: right;\">  BILL_AMT1</th><th style=\"text-align: right;\">  BILL_AMT2</th><th style=\"text-align: right;\">  BILL_AMT3</th><th style=\"text-align: right;\">  BILL_AMT4</th><th style=\"text-align: right;\">  BILL_AMT5</th><th style=\"text-align: right;\">  BILL_AMT6</th><th style=\"text-align: right;\">  PAY_AMT1</th><th style=\"text-align: right;\">  PAY_AMT2</th><th style=\"text-align: right;\">  PAY_AMT3</th><th style=\"text-align: right;\">  PAY_AMT4</th><th style=\"text-align: right;\">  PAY_AMT5</th><th style=\"text-align: right;\">  PAY_AMT6</th><th style=\"text-align: right;\">  DEFAULT_NEXT_MONTH</th><th style=\"text-align: right;\">  p_DEFAULT_NEXT_MONTH</th></tr>\n",
       "</thead>\n",
       "<tbody>\n",
       "<tr><td style=\"text-align: right;\">29116</td><td style=\"text-align: right;\">      20000</td><td>female</td><td>university </td><td>married   </td><td style=\"text-align: right;\">   59</td><td>3 month delay</td><td>2 month delay</td><td>3 month delay</td><td>2 month delay</td><td>2 month delay</td><td>4 month delay</td><td style=\"text-align: right;\">       8803</td><td style=\"text-align: right;\">      11137</td><td style=\"text-align: right;\">      10672</td><td style=\"text-align: right;\">      11201</td><td style=\"text-align: right;\">      12721</td><td style=\"text-align: right;\">      11946</td><td style=\"text-align: right;\">      2800</td><td style=\"text-align: right;\">         0</td><td style=\"text-align: right;\">      1000</td><td style=\"text-align: right;\">      2000</td><td style=\"text-align: right;\">         0</td><td style=\"text-align: right;\">         0</td><td style=\"text-align: right;\">                   1</td><td style=\"text-align: right;\">              0.895285</td></tr>\n",
       "</tbody>\n",
       "</table>"
      ]
     },
     "metadata": {},
     "output_type": "display_data"
    },
    {
     "data": {
      "text/plain": []
     },
     "execution_count": 31,
     "metadata": {},
     "output_type": "execute_result"
    }
   ],
   "source": [
    "#19\n",
    "test_yhat[test_yhat['ID'] == int(percentile_dict[99]), :] # helps understand reason codes"
   ]
  },
  {
   "cell_type": "code",
   "execution_count": null,
   "metadata": {
    "collapsed": true
   },
   "outputs": [],
   "source": [
    "#LOCO and lime can be very unstable due to high variance nature of model.\n",
    "#Can lead to instability of model.\n",
    "#In ML way to reduce variance is to put together an ensemble\n",
    "#to show combined effort of different models.\n",
    "#So train slight variations (perturbations) of very similar but different \n",
    "#GBM models and find the loco explanations together to get combined \n",
    "#explanation."
   ]
  },
  {
   "cell_type": "markdown",
   "metadata": {},
   "source": [
    "To generate reason codes for the model's decision, the locally important variable and its value are used together. If this customer was denied future credit based on this model and data, the top five LOCO-based reason codes for the automated decision would be:\n",
    "\n",
    "Most recent payment is 3 months delayed.\n",
    "6th most recent payment is 4 months delayed.\n",
    "3rd most recent payment is 3 months delayed.\n",
    "5th most recent payment is 2 months delayed.\n",
    "Customer age is 59.\n",
    "(Of course, in many places, variables like AGE and SEX cannot be used in credit lending decisions.)\n",
    "\n",
    "6. Bonus: Generate ensemble LOCO reason codes for greater explanation stability\n",
    "Just like predictions from high variance, nonlinear models, explanations derived from machine learning models can be unstable. One general way to decrease variance is to ensemble the results of many models. The last section of this notebook puts forward a simple approach to creating ensemble explanations.\n",
    "\n",
    "Train multiple models\n",
    "To create ensemble explanations, several accurate models are trained. The models and their predictions on the test data are stored in Python lists."
   ]
  },
  {
   "cell_type": "code",
   "execution_count": 32,
   "metadata": {
    "ExecuteTime": {
     "end_time": "2018-10-23T00:35:21.732875Z",
     "start_time": "2018-10-23T00:34:19.426443Z"
    }
   },
   "outputs": [
    {
     "name": "stdout",
     "output_type": "stream",
     "text": [
      "Training Progress: model 1/10, AUC = 0.7813 ...\n",
      "Training Progress: model 2/10, AUC = 0.7804 ...\n",
      "Training Progress: model 3/10, AUC = 0.7787 ...\n",
      "Training Progress: model 4/10, AUC = 0.7826 ...\n",
      "Training Progress: model 5/10, AUC = 0.7804 ...\n",
      "Training Progress: model 6/10, AUC = 0.7800 ...\n",
      "Training Progress: model 7/10, AUC = 0.7801 ...\n",
      "Training Progress: model 8/10, AUC = 0.7799 ...\n",
      "Training Progress: model 9/10, AUC = 0.7796 ...\n",
      "Training Progress: model 10/10, AUC = 0.7811 ...\n",
      "Done.\n"
     ]
    }
   ],
   "source": [
    "#20\n",
    "n_models = 10 # select number of models\n",
    "\n",
    "# lists for holding models and predictions\n",
    "models = []\n",
    "pred_frames = []\n",
    "\n",
    "for i in range(0, n_models):\n",
    "\n",
    "    # initialize and store models\n",
    "    models.append(H2OGradientBoostingEstimator(ntrees=150,\n",
    "                                               max_depth=4,\n",
    "                                               sample_rate=0.9 - ((i + 1)*0.01),     # perturb sample rate\n",
    "                                               col_sample_rate=0.9 - ((i + 1)*0.01), # perturb column sample rate\n",
    "                                               #balance_classes=True,                # sample to balance 0/1 distribution of target - helps LOCO\n",
    "                                               stopping_rounds=5,                    # stop if validation error does not decrease for 5 iterations (trees)\n",
    "                                               seed=i + 1))                          # new random seed for each model\n",
    "\n",
    "    # train models\n",
    "    models[i].train(y=y, x=X, training_frame=train, validation_frame=test)\n",
    "\n",
    "    # store predictions\n",
    "    pred_frames.append(test['ID'].cbind(models[i].predict(test).drop(['predict','p0'])))\n",
    "    pred_frames[i].columns = ['ID', yhat]\n",
    "\n",
    "    # update progress\n",
    "    print('Training Progress: model %d/%d, AUC = %.4f ...' % (i + 1, n_models, models[i].auc(valid=True)))\n",
    "\n",
    "print('Done.')"
   ]
  },
  {
   "cell_type": "markdown",
   "metadata": {},
   "source": [
    "Calculate LOCO for each model\n",
    "LOCO is calculated on the test data for each model, each input, and each row of data in the test set using the stored models and predictions."
   ]
  },
  {
   "cell_type": "code",
   "execution_count": 33,
   "metadata": {
    "ExecuteTime": {
     "end_time": "2018-10-23T01:17:17.898027Z",
     "start_time": "2018-10-23T00:38:20.003009Z"
    }
   },
   "outputs": [
    {
     "name": "stdout",
     "output_type": "stream",
     "text": [
      "LOCO Progress: model 1/10 ...\n",
      "LOCO Progress: model 2/10 ...\n",
      "LOCO Progress: model 3/10 ...\n",
      "LOCO Progress: model 4/10 ...\n",
      "LOCO Progress: model 5/10 ...\n",
      "LOCO Progress: model 6/10 ...\n",
      "LOCO Progress: model 7/10 ...\n",
      "LOCO Progress: model 8/10 ...\n",
      "LOCO Progress: model 9/10 ...\n",
      "LOCO Progress: model 10/10 ...\n",
      "Done.\n"
     ]
    }
   ],
   "source": [
    "#21 - for each new model ...\n",
    "for k, model in enumerate(models):\n",
    "\n",
    "    # calculate LOCO for each input variable \n",
    "    for i in X:\n",
    "\n",
    "        # train and predict with Xi set to missing\n",
    "        test_loco = h2o.deep_copy(test, 'test_loco')\n",
    "        test_loco[i] = np.nan\n",
    "        preds_loco = model.predict(test_loco).drop(['predict','p0'])\n",
    "\n",
    "        # create a new, named column for the LOCO prediction\n",
    "        preds_loco.columns = [i]\n",
    "        pred_frames[k] = pred_frames[k].cbind(preds_loco)\n",
    "\n",
    "        # subtract the LOCO prediction from the original prediction\n",
    "        pred_frames[k][i] = pred_frames[k][yhat] - pred_frames[k][i]\n",
    "\n",
    "    # update progress    \n",
    "    print('LOCO Progress: model %d/%d ...' % (k + 1, n_models))\n",
    "\n",
    "print('Done.')"
   ]
  },
  {
   "cell_type": "markdown",
   "metadata": {},
   "source": [
    "Collect LOCO values for each model for a risky customer\n",
    "To create ensemble explanations for a single row, the LOCO values for each variable in the row are averaged across all models. Single-model and mean LOCO values for the most risky person in the test set are displayed below. Notice that even slight changes in model specifications can result in different explanations. For example, the local contribution of PAY_0 for the riskiest customer ranges from 0.13 to 0.23 across the 10 models in the table below:"
   ]
  },
  {
   "cell_type": "code",
   "execution_count": 34,
   "metadata": {
    "ExecuteTime": {
     "end_time": "2018-10-23T01:34:06.883904Z",
     "start_time": "2018-10-23T01:33:28.675003Z"
    }
   },
   "outputs": [
    {
     "data": {
      "text/html": [
       "<div>\n",
       "<style>\n",
       "    .dataframe thead tr:only-child th {\n",
       "        text-align: right;\n",
       "    }\n",
       "\n",
       "    .dataframe thead th {\n",
       "        text-align: left;\n",
       "    }\n",
       "\n",
       "    .dataframe tbody tr th {\n",
       "        vertical-align: top;\n",
       "    }\n",
       "</style>\n",
       "<table border=\"1\" class=\"dataframe\">\n",
       "  <thead>\n",
       "    <tr style=\"text-align: right;\">\n",
       "      <th></th>\n",
       "      <th>Loco 1</th>\n",
       "      <th>Loco 2</th>\n",
       "      <th>Loco 3</th>\n",
       "      <th>Loco 4</th>\n",
       "      <th>Loco 5</th>\n",
       "      <th>Loco 6</th>\n",
       "      <th>Loco 7</th>\n",
       "      <th>Loco 8</th>\n",
       "      <th>Loco 9</th>\n",
       "      <th>Loco 10</th>\n",
       "      <th>Mean Local Importance</th>\n",
       "      <th>Std. Dev. Local Importance</th>\n",
       "    </tr>\n",
       "  </thead>\n",
       "  <tbody>\n",
       "    <tr>\n",
       "      <th>LIMIT_BAL</th>\n",
       "      <td>0.013205</td>\n",
       "      <td>0.011040</td>\n",
       "      <td>0.012483</td>\n",
       "      <td>0.001345</td>\n",
       "      <td>0.015150</td>\n",
       "      <td>-0.006688</td>\n",
       "      <td>-0.002158</td>\n",
       "      <td>-0.009428</td>\n",
       "      <td>-0.002005</td>\n",
       "      <td>-0.005503</td>\n",
       "      <td>0.002744</td>\n",
       "      <td>0.008836</td>\n",
       "    </tr>\n",
       "    <tr>\n",
       "      <th>SEX</th>\n",
       "      <td>0.000000</td>\n",
       "      <td>0.000000</td>\n",
       "      <td>0.000000</td>\n",
       "      <td>0.000000</td>\n",
       "      <td>0.000000</td>\n",
       "      <td>0.000000</td>\n",
       "      <td>0.000000</td>\n",
       "      <td>0.000000</td>\n",
       "      <td>0.000000</td>\n",
       "      <td>0.000000</td>\n",
       "      <td>0.000000</td>\n",
       "      <td>0.000000</td>\n",
       "    </tr>\n",
       "    <tr>\n",
       "      <th>EDUCATION</th>\n",
       "      <td>0.000000</td>\n",
       "      <td>0.000000</td>\n",
       "      <td>0.000000</td>\n",
       "      <td>0.000000</td>\n",
       "      <td>0.000000</td>\n",
       "      <td>0.000000</td>\n",
       "      <td>0.000000</td>\n",
       "      <td>0.000000</td>\n",
       "      <td>0.000000</td>\n",
       "      <td>0.000000</td>\n",
       "      <td>0.000000</td>\n",
       "      <td>0.000000</td>\n",
       "    </tr>\n",
       "    <tr>\n",
       "      <th>MARRIAGE</th>\n",
       "      <td>0.051186</td>\n",
       "      <td>0.023304</td>\n",
       "      <td>0.049574</td>\n",
       "      <td>0.044072</td>\n",
       "      <td>0.034987</td>\n",
       "      <td>0.083513</td>\n",
       "      <td>0.053444</td>\n",
       "      <td>0.034809</td>\n",
       "      <td>0.051611</td>\n",
       "      <td>0.097880</td>\n",
       "      <td>0.052438</td>\n",
       "      <td>0.021392</td>\n",
       "    </tr>\n",
       "    <tr>\n",
       "      <th>AGE</th>\n",
       "      <td>0.022646</td>\n",
       "      <td>0.084028</td>\n",
       "      <td>0.015365</td>\n",
       "      <td>0.019450</td>\n",
       "      <td>0.047277</td>\n",
       "      <td>0.008411</td>\n",
       "      <td>0.019311</td>\n",
       "      <td>0.019194</td>\n",
       "      <td>0.064969</td>\n",
       "      <td>0.047981</td>\n",
       "      <td>0.034863</td>\n",
       "      <td>0.023673</td>\n",
       "    </tr>\n",
       "    <tr>\n",
       "      <th>PAY_0</th>\n",
       "      <td>0.199285</td>\n",
       "      <td>0.136971</td>\n",
       "      <td>0.155368</td>\n",
       "      <td>0.123913</td>\n",
       "      <td>0.103977</td>\n",
       "      <td>0.094563</td>\n",
       "      <td>0.129808</td>\n",
       "      <td>0.166523</td>\n",
       "      <td>0.163303</td>\n",
       "      <td>0.118950</td>\n",
       "      <td>0.139266</td>\n",
       "      <td>0.030281</td>\n",
       "    </tr>\n",
       "    <tr>\n",
       "      <th>PAY_2</th>\n",
       "      <td>0.002721</td>\n",
       "      <td>0.023228</td>\n",
       "      <td>0.029913</td>\n",
       "      <td>0.064136</td>\n",
       "      <td>0.047839</td>\n",
       "      <td>0.003387</td>\n",
       "      <td>0.044296</td>\n",
       "      <td>0.002752</td>\n",
       "      <td>0.021887</td>\n",
       "      <td>0.028216</td>\n",
       "      <td>0.026837</td>\n",
       "      <td>0.019742</td>\n",
       "    </tr>\n",
       "    <tr>\n",
       "      <th>PAY_3</th>\n",
       "      <td>0.068494</td>\n",
       "      <td>0.093103</td>\n",
       "      <td>0.047630</td>\n",
       "      <td>0.046408</td>\n",
       "      <td>0.044800</td>\n",
       "      <td>0.016914</td>\n",
       "      <td>0.038656</td>\n",
       "      <td>0.046357</td>\n",
       "      <td>0.088166</td>\n",
       "      <td>0.054055</td>\n",
       "      <td>0.054458</td>\n",
       "      <td>0.021809</td>\n",
       "    </tr>\n",
       "    <tr>\n",
       "      <th>PAY_4</th>\n",
       "      <td>0.030388</td>\n",
       "      <td>0.053298</td>\n",
       "      <td>0.039892</td>\n",
       "      <td>-0.009098</td>\n",
       "      <td>0.021445</td>\n",
       "      <td>0.022628</td>\n",
       "      <td>0.043056</td>\n",
       "      <td>0.038197</td>\n",
       "      <td>0.063759</td>\n",
       "      <td>0.021841</td>\n",
       "      <td>0.032541</td>\n",
       "      <td>0.019174</td>\n",
       "    </tr>\n",
       "    <tr>\n",
       "      <th>PAY_5</th>\n",
       "      <td>0.064508</td>\n",
       "      <td>0.051064</td>\n",
       "      <td>0.033604</td>\n",
       "      <td>0.069855</td>\n",
       "      <td>0.024448</td>\n",
       "      <td>0.038036</td>\n",
       "      <td>0.031212</td>\n",
       "      <td>0.020676</td>\n",
       "      <td>0.063064</td>\n",
       "      <td>0.072998</td>\n",
       "      <td>0.046947</td>\n",
       "      <td>0.018681</td>\n",
       "    </tr>\n",
       "    <tr>\n",
       "      <th>PAY_6</th>\n",
       "      <td>0.030094</td>\n",
       "      <td>0.033554</td>\n",
       "      <td>0.027220</td>\n",
       "      <td>-0.023089</td>\n",
       "      <td>0.005430</td>\n",
       "      <td>0.005204</td>\n",
       "      <td>0.022503</td>\n",
       "      <td>0.029180</td>\n",
       "      <td>0.028095</td>\n",
       "      <td>0.030959</td>\n",
       "      <td>0.018915</td>\n",
       "      <td>0.017000</td>\n",
       "    </tr>\n",
       "    <tr>\n",
       "      <th>BILL_AMT1</th>\n",
       "      <td>0.000933</td>\n",
       "      <td>0.036190</td>\n",
       "      <td>0.002133</td>\n",
       "      <td>0.025375</td>\n",
       "      <td>0.001071</td>\n",
       "      <td>0.004628</td>\n",
       "      <td>0.018029</td>\n",
       "      <td>0.004658</td>\n",
       "      <td>0.021524</td>\n",
       "      <td>0.027100</td>\n",
       "      <td>0.014164</td>\n",
       "      <td>0.012328</td>\n",
       "    </tr>\n",
       "    <tr>\n",
       "      <th>BILL_AMT2</th>\n",
       "      <td>0.008804</td>\n",
       "      <td>0.001631</td>\n",
       "      <td>0.000000</td>\n",
       "      <td>0.000000</td>\n",
       "      <td>0.031767</td>\n",
       "      <td>0.000000</td>\n",
       "      <td>0.008615</td>\n",
       "      <td>0.000000</td>\n",
       "      <td>0.000000</td>\n",
       "      <td>0.000000</td>\n",
       "      <td>0.005082</td>\n",
       "      <td>0.009515</td>\n",
       "    </tr>\n",
       "    <tr>\n",
       "      <th>BILL_AMT3</th>\n",
       "      <td>0.000000</td>\n",
       "      <td>-0.001008</td>\n",
       "      <td>0.000000</td>\n",
       "      <td>0.000000</td>\n",
       "      <td>0.000000</td>\n",
       "      <td>0.000000</td>\n",
       "      <td>0.000000</td>\n",
       "      <td>0.000000</td>\n",
       "      <td>-0.001648</td>\n",
       "      <td>0.000000</td>\n",
       "      <td>-0.000266</td>\n",
       "      <td>0.000550</td>\n",
       "    </tr>\n",
       "    <tr>\n",
       "      <th>BILL_AMT4</th>\n",
       "      <td>-0.001370</td>\n",
       "      <td>0.000000</td>\n",
       "      <td>0.000000</td>\n",
       "      <td>0.000000</td>\n",
       "      <td>0.000000</td>\n",
       "      <td>-0.010070</td>\n",
       "      <td>0.000000</td>\n",
       "      <td>-0.005586</td>\n",
       "      <td>0.000000</td>\n",
       "      <td>-0.001738</td>\n",
       "      <td>-0.001876</td>\n",
       "      <td>0.003198</td>\n",
       "    </tr>\n",
       "    <tr>\n",
       "      <th>BILL_AMT5</th>\n",
       "      <td>0.000000</td>\n",
       "      <td>0.000000</td>\n",
       "      <td>0.000000</td>\n",
       "      <td>0.003339</td>\n",
       "      <td>0.000000</td>\n",
       "      <td>0.000000</td>\n",
       "      <td>0.000000</td>\n",
       "      <td>0.004020</td>\n",
       "      <td>-0.010965</td>\n",
       "      <td>0.009204</td>\n",
       "      <td>0.000560</td>\n",
       "      <td>0.004787</td>\n",
       "    </tr>\n",
       "    <tr>\n",
       "      <th>BILL_AMT6</th>\n",
       "      <td>0.000000</td>\n",
       "      <td>0.000000</td>\n",
       "      <td>0.000000</td>\n",
       "      <td>0.000000</td>\n",
       "      <td>0.006478</td>\n",
       "      <td>0.000000</td>\n",
       "      <td>0.000000</td>\n",
       "      <td>0.000000</td>\n",
       "      <td>0.000000</td>\n",
       "      <td>0.000000</td>\n",
       "      <td>0.000648</td>\n",
       "      <td>0.001943</td>\n",
       "    </tr>\n",
       "    <tr>\n",
       "      <th>PAY_AMT1</th>\n",
       "      <td>0.000000</td>\n",
       "      <td>0.004307</td>\n",
       "      <td>0.000000</td>\n",
       "      <td>0.000000</td>\n",
       "      <td>0.000000</td>\n",
       "      <td>0.003919</td>\n",
       "      <td>0.000000</td>\n",
       "      <td>0.000000</td>\n",
       "      <td>0.000000</td>\n",
       "      <td>0.000000</td>\n",
       "      <td>0.000823</td>\n",
       "      <td>0.001648</td>\n",
       "    </tr>\n",
       "    <tr>\n",
       "      <th>PAY_AMT2</th>\n",
       "      <td>0.000000</td>\n",
       "      <td>0.001541</td>\n",
       "      <td>0.000000</td>\n",
       "      <td>-0.001350</td>\n",
       "      <td>0.004503</td>\n",
       "      <td>0.002450</td>\n",
       "      <td>0.000000</td>\n",
       "      <td>0.001922</td>\n",
       "      <td>0.000000</td>\n",
       "      <td>0.000985</td>\n",
       "      <td>0.001005</td>\n",
       "      <td>0.001582</td>\n",
       "    </tr>\n",
       "    <tr>\n",
       "      <th>PAY_AMT3</th>\n",
       "      <td>0.000000</td>\n",
       "      <td>0.000000</td>\n",
       "      <td>0.000000</td>\n",
       "      <td>0.000000</td>\n",
       "      <td>0.000000</td>\n",
       "      <td>0.000000</td>\n",
       "      <td>0.000000</td>\n",
       "      <td>0.000000</td>\n",
       "      <td>0.000000</td>\n",
       "      <td>0.005040</td>\n",
       "      <td>0.000504</td>\n",
       "      <td>0.001512</td>\n",
       "    </tr>\n",
       "    <tr>\n",
       "      <th>PAY_AMT4</th>\n",
       "      <td>0.000000</td>\n",
       "      <td>0.000000</td>\n",
       "      <td>0.000000</td>\n",
       "      <td>-0.006528</td>\n",
       "      <td>0.000000</td>\n",
       "      <td>0.000000</td>\n",
       "      <td>0.000000</td>\n",
       "      <td>0.000000</td>\n",
       "      <td>0.000000</td>\n",
       "      <td>0.000000</td>\n",
       "      <td>-0.000653</td>\n",
       "      <td>0.001959</td>\n",
       "    </tr>\n",
       "    <tr>\n",
       "      <th>PAY_AMT5</th>\n",
       "      <td>0.000000</td>\n",
       "      <td>0.014605</td>\n",
       "      <td>0.016906</td>\n",
       "      <td>0.016336</td>\n",
       "      <td>0.001440</td>\n",
       "      <td>0.004975</td>\n",
       "      <td>0.029793</td>\n",
       "      <td>0.045810</td>\n",
       "      <td>0.019439</td>\n",
       "      <td>0.047491</td>\n",
       "      <td>0.019679</td>\n",
       "      <td>0.015936</td>\n",
       "    </tr>\n",
       "    <tr>\n",
       "      <th>PAY_AMT6</th>\n",
       "      <td>-0.000925</td>\n",
       "      <td>0.000000</td>\n",
       "      <td>0.000000</td>\n",
       "      <td>-0.009342</td>\n",
       "      <td>-0.000800</td>\n",
       "      <td>-0.000556</td>\n",
       "      <td>0.000000</td>\n",
       "      <td>0.000000</td>\n",
       "      <td>0.000000</td>\n",
       "      <td>0.000000</td>\n",
       "      <td>-0.001162</td>\n",
       "      <td>0.002749</td>\n",
       "    </tr>\n",
       "  </tbody>\n",
       "</table>\n",
       "</div>"
      ],
      "text/plain": [
       "             Loco 1    Loco 2    Loco 3    Loco 4    Loco 5    Loco 6  \\\n",
       "LIMIT_BAL  0.013205  0.011040  0.012483  0.001345  0.015150 -0.006688   \n",
       "SEX        0.000000  0.000000  0.000000  0.000000  0.000000  0.000000   \n",
       "EDUCATION  0.000000  0.000000  0.000000  0.000000  0.000000  0.000000   \n",
       "MARRIAGE   0.051186  0.023304  0.049574  0.044072  0.034987  0.083513   \n",
       "AGE        0.022646  0.084028  0.015365  0.019450  0.047277  0.008411   \n",
       "PAY_0      0.199285  0.136971  0.155368  0.123913  0.103977  0.094563   \n",
       "PAY_2      0.002721  0.023228  0.029913  0.064136  0.047839  0.003387   \n",
       "PAY_3      0.068494  0.093103  0.047630  0.046408  0.044800  0.016914   \n",
       "PAY_4      0.030388  0.053298  0.039892 -0.009098  0.021445  0.022628   \n",
       "PAY_5      0.064508  0.051064  0.033604  0.069855  0.024448  0.038036   \n",
       "PAY_6      0.030094  0.033554  0.027220 -0.023089  0.005430  0.005204   \n",
       "BILL_AMT1  0.000933  0.036190  0.002133  0.025375  0.001071  0.004628   \n",
       "BILL_AMT2  0.008804  0.001631  0.000000  0.000000  0.031767  0.000000   \n",
       "BILL_AMT3  0.000000 -0.001008  0.000000  0.000000  0.000000  0.000000   \n",
       "BILL_AMT4 -0.001370  0.000000  0.000000  0.000000  0.000000 -0.010070   \n",
       "BILL_AMT5  0.000000  0.000000  0.000000  0.003339  0.000000  0.000000   \n",
       "BILL_AMT6  0.000000  0.000000  0.000000  0.000000  0.006478  0.000000   \n",
       "PAY_AMT1   0.000000  0.004307  0.000000  0.000000  0.000000  0.003919   \n",
       "PAY_AMT2   0.000000  0.001541  0.000000 -0.001350  0.004503  0.002450   \n",
       "PAY_AMT3   0.000000  0.000000  0.000000  0.000000  0.000000  0.000000   \n",
       "PAY_AMT4   0.000000  0.000000  0.000000 -0.006528  0.000000  0.000000   \n",
       "PAY_AMT5   0.000000  0.014605  0.016906  0.016336  0.001440  0.004975   \n",
       "PAY_AMT6  -0.000925  0.000000  0.000000 -0.009342 -0.000800 -0.000556   \n",
       "\n",
       "             Loco 7    Loco 8    Loco 9   Loco 10  Mean Local Importance  \\\n",
       "LIMIT_BAL -0.002158 -0.009428 -0.002005 -0.005503               0.002744   \n",
       "SEX        0.000000  0.000000  0.000000  0.000000               0.000000   \n",
       "EDUCATION  0.000000  0.000000  0.000000  0.000000               0.000000   \n",
       "MARRIAGE   0.053444  0.034809  0.051611  0.097880               0.052438   \n",
       "AGE        0.019311  0.019194  0.064969  0.047981               0.034863   \n",
       "PAY_0      0.129808  0.166523  0.163303  0.118950               0.139266   \n",
       "PAY_2      0.044296  0.002752  0.021887  0.028216               0.026837   \n",
       "PAY_3      0.038656  0.046357  0.088166  0.054055               0.054458   \n",
       "PAY_4      0.043056  0.038197  0.063759  0.021841               0.032541   \n",
       "PAY_5      0.031212  0.020676  0.063064  0.072998               0.046947   \n",
       "PAY_6      0.022503  0.029180  0.028095  0.030959               0.018915   \n",
       "BILL_AMT1  0.018029  0.004658  0.021524  0.027100               0.014164   \n",
       "BILL_AMT2  0.008615  0.000000  0.000000  0.000000               0.005082   \n",
       "BILL_AMT3  0.000000  0.000000 -0.001648  0.000000              -0.000266   \n",
       "BILL_AMT4  0.000000 -0.005586  0.000000 -0.001738              -0.001876   \n",
       "BILL_AMT5  0.000000  0.004020 -0.010965  0.009204               0.000560   \n",
       "BILL_AMT6  0.000000  0.000000  0.000000  0.000000               0.000648   \n",
       "PAY_AMT1   0.000000  0.000000  0.000000  0.000000               0.000823   \n",
       "PAY_AMT2   0.000000  0.001922  0.000000  0.000985               0.001005   \n",
       "PAY_AMT3   0.000000  0.000000  0.000000  0.005040               0.000504   \n",
       "PAY_AMT4   0.000000  0.000000  0.000000  0.000000              -0.000653   \n",
       "PAY_AMT5   0.029793  0.045810  0.019439  0.047491               0.019679   \n",
       "PAY_AMT6   0.000000  0.000000  0.000000  0.000000              -0.001162   \n",
       "\n",
       "           Std. Dev. Local Importance  \n",
       "LIMIT_BAL                    0.008836  \n",
       "SEX                          0.000000  \n",
       "EDUCATION                    0.000000  \n",
       "MARRIAGE                     0.021392  \n",
       "AGE                          0.023673  \n",
       "PAY_0                        0.030281  \n",
       "PAY_2                        0.019742  \n",
       "PAY_3                        0.021809  \n",
       "PAY_4                        0.019174  \n",
       "PAY_5                        0.018681  \n",
       "PAY_6                        0.017000  \n",
       "BILL_AMT1                    0.012328  \n",
       "BILL_AMT2                    0.009515  \n",
       "BILL_AMT3                    0.000550  \n",
       "BILL_AMT4                    0.003198  \n",
       "BILL_AMT5                    0.004787  \n",
       "BILL_AMT6                    0.001943  \n",
       "PAY_AMT1                     0.001648  \n",
       "PAY_AMT2                     0.001582  \n",
       "PAY_AMT3                     0.001512  \n",
       "PAY_AMT4                     0.001959  \n",
       "PAY_AMT5                     0.015936  \n",
       "PAY_AMT6                     0.002749  "
      ]
     },
     "execution_count": 34,
     "metadata": {},
     "output_type": "execute_result"
    }
   ],
   "source": [
    "#22 - holds predictions for a specific row \n",
    "risky_loco_frames = []\n",
    "\n",
    "# column names for Pandas DataFrame of combined LOCO prediction\n",
    "col_names = ['Loco ' + str(i) for i in range(1, n_models + 1)]\n",
    "\n",
    "# for each new model ...\n",
    "for i in range(0, n_models):\n",
    "\n",
    "    # collect LOCO for that model and a specific row \n",
    "    # as a column vector in a Pandas DataFrame\n",
    "    preds = pred_frames[i]\n",
    "    risky_loco_frames.append(preds[preds['ID'] == int(percentile_dict[99]), :] # row for risky person\n",
    "                             .as_data_frame()                                  # convert to Pandas\n",
    "                             .drop(['ID', yhat], axis=1)                       # drop predictions and row ID\n",
    "                             .T)                                               # Transpose into column vector\n",
    "\n",
    "# bind LOCO for each row as column vectors \n",
    "# into the same Pandas DataFrame\n",
    "loco_ensemble = pd.concat(risky_loco_frames, axis=1) \n",
    "\n",
    "# update column names\n",
    "loco_ensemble.columns = col_names\n",
    "loco_ensemble['Mean Local Importance'] = loco_ensemble.mean(axis=1)\n",
    "loco_ensemble['Std. Dev. Local Importance'] = loco_ensemble.std(axis=1)\n",
    "\n",
    "# display\n",
    "loco_ensemble"
   ]
  },
  {
   "cell_type": "markdown",
   "metadata": {},
   "source": [
    "Plot some mean reason codes for a risky customer\n",
    "Taking mean explanations across multiple models leads to reason codes somewhat different from the reason codes produced by a single model. Mean reason codes may be more stable because they represent explanations from several models, and they may take practitioners a step closer to using machine learning models to make inferential conclusions about phenomena represented in the training or test data, instead of simply providing an approximate explanation of a single model's decision processes."
   ]
  },
  {
   "cell_type": "code",
   "execution_count": 35,
   "metadata": {
    "ExecuteTime": {
     "end_time": "2018-10-23T01:34:35.975168Z",
     "start_time": "2018-10-23T01:34:35.904358Z"
    }
   },
   "outputs": [
    {
     "data": {
      "image/png": "[encoded data removed]",
      "text/plain": [
       "<matplotlib.figure.Figure at 0x147fbab95c0>"
      ]
     },
     "metadata": {},
     "output_type": "display_data"
    }
   ],
   "source": [
    "#23\n",
    "risky_mean_loco = loco_ensemble['Mean Local Importance'].sort_values(ascending=False)[:5]\n",
    "_ = risky_mean_loco.plot(kind='bar', \n",
    "                         title='Top Five Reason Codes for a Risky Customer\\n', \n",
    "                         legend=False)"
   ]
  },
  {
   "cell_type": "markdown",
   "metadata": {},
   "source": [
    "Shut down H2O\n",
    "After using H2O, it's typically best to shut it down. However, before doing so, users should ensure that they have saved any H2O data structures (such as models and H2OFrames) or scoring artifacts (such as POJOs and MOJOs)."
   ]
  },
  {
   "cell_type": "code",
   "execution_count": 37,
   "metadata": {
    "ExecuteTime": {
     "end_time": "2018-10-23T01:36:59.733577Z",
     "start_time": "2018-10-23T01:36:54.152491Z"
    }
   },
   "outputs": [
    {
     "name": "stdout",
     "output_type": "stream",
     "text": [
      "Are you sure you want to shutdown the H2O instance running at http://localhost:54321 (Y/N)? y\n",
      "H2O session _sid_8a42 closed.\n"
     ]
    }
   ],
   "source": [
    "#24 - be careful, this can erase your work!\n",
    "h2o.cluster().shutdown(prompt=True)"
   ]
  },
  {
   "cell_type": "markdown",
   "metadata": {},
   "source": [
    "Summary\n",
    "In this notebook, a complex GBM classifier was trained to predict credit card defaults and explained at a global scale with a decision tree surrogate model and explained at a local scale with LOCO. An ensemble LOCO approach was also introduced to stabilize approximate explanations. The decision tree surrogate creates an overall approximate flowchart for the GBM's decision processes, and LOCO can be used to create reason codes for each model prediction. All of these techniques enhance the transparency of the complex model, which in turn enables greater accountability for the model's predictions. These techniques should generalize well for many types of business and research problems, enabling you to train a complex GBM model and explain it to your colleagues, bosses, and potentially, external regulators.\n",
    "\n"
   ]
  }
 ],
 "metadata": {
  "kernelspec": {
   "display_name": "Python 3",
   "language": "python",
   "name": "python3"
  },
  "language_info": {
   "codemirror_mode": {
    "name": "ipython",
    "version": 3
   },
   "file_extension": ".py",
   "mimetype": "text/x-python",
   "name": "python",
   "nbconvert_exporter": "python",
   "pygments_lexer": "ipython3",
   "version": "3.6.7"
  }
 },
 "nbformat": 4,
 "nbformat_minor": 2
}
